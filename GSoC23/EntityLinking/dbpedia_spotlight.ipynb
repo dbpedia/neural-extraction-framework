{
 "cells": [
  {
   "attachments": {},
   "cell_type": "markdown",
   "metadata": {},
   "source": [
    "#### Entity linking using DBpedia spotlight"
   ]
  },
  {
   "cell_type": "code",
   "execution_count": 1,
   "metadata": {},
   "outputs": [
    {
     "name": "stderr",
     "output_type": "stream",
     "text": [
      "/home/aakash/miniconda3/envs/gsoc/lib/python3.11/site-packages/tqdm/auto.py:21: TqdmWarning: IProgress not found. Please update jupyter and ipywidgets. See https://ipywidgets.readthedocs.io/en/stable/user_install.html\n",
      "  from .autonotebook import tqdm as notebook_tqdm\n"
     ]
    }
   ],
   "source": [
    "import spacy_dbpedia_spotlight\n",
    "import spacy\n",
    "# load your model as usual\n",
    "nlp = spacy.load('en_core_web_trf')"
   ]
  },
  {
   "cell_type": "code",
   "execution_count": 2,
   "metadata": {},
   "outputs": [
    {
     "data": {
      "text/plain": [
       "<spacy_dbpedia_spotlight.entity_linker.EntityLinker at 0x7fd872d5c490>"
      ]
     },
     "execution_count": 2,
     "metadata": {},
     "output_type": "execute_result"
    }
   ],
   "source": [
    "nlp.add_pipe('dbpedia_spotlight')"
   ]
  },
  {
   "cell_type": "code",
   "execution_count": 3,
   "metadata": {},
   "outputs": [],
   "source": [
    "doc = nlp(\n",
    "    '''\n",
    "    The president of USA is calling \n",
    "    Boris Johnson to decide what to \n",
    "    do about coronavirus\n",
    "    ''')"
   ]
  },
  {
   "cell_type": "code",
   "execution_count": 5,
   "metadata": {},
   "outputs": [
    {
     "name": "stdout",
     "output_type": "stream",
     "text": [
      "USA DBPEDIA_ENT http://dbpedia.org/resource/United_States\n",
      "Boris Johnson DBPEDIA_ENT http://dbpedia.org/resource/Boris_Johnson\n",
      "coronavirus DBPEDIA_ENT http://dbpedia.org/resource/Coronavirus\n"
     ]
    }
   ],
   "source": [
    "for ent in doc.ents:\n",
    "    print(ent.text, ent.label_, ent.kb_id_)"
   ]
  },
  {
   "cell_type": "code",
   "execution_count": 9,
   "metadata": {},
   "outputs": [
    {
     "name": "stdout",
     "output_type": "stream",
     "text": [
      "USA\n",
      "@URI - http://dbpedia.org/resource/United_States\n",
      "@support - 553243\n",
      "@types - Wikidata:Q6256,Schema:Place,Schema:Country,DBpedia:PopulatedPlace,DBpedia:Place,DBpedia:Location,DBpedia:Country\n",
      "@surfaceForm - USA\n",
      "@offset - 17\n",
      "@similarityScore - 0.9965798615743495\n",
      "@percentageOfSecondRank - 0.0023641208721890935\n"
     ]
    }
   ],
   "source": [
    "# inspect the raw data from DBpedia spotlight\n",
    "print(doc.ents[0].text)\n",
    "for k,v in doc.ents[0]._.dbpedia_raw_result.items():\n",
    "    print(k,\"-\",v)"
   ]
  },
  {
   "cell_type": "code",
   "execution_count": null,
   "metadata": {},
   "outputs": [],
   "source": []
  }
 ],
 "metadata": {
  "kernelspec": {
   "display_name": "gsoc",
   "language": "python",
   "name": "python3"
  },
  "language_info": {
   "codemirror_mode": {
    "name": "ipython",
    "version": 3
   },
   "file_extension": ".py",
   "mimetype": "text/x-python",
   "name": "python",
   "nbconvert_exporter": "python",
   "pygments_lexer": "ipython3",
   "version": "3.11.3"
  },
  "orig_nbformat": 4
 },
 "nbformat": 4,
 "nbformat_minor": 2
}
