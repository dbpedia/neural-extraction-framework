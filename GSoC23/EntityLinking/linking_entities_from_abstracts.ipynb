{
 "cells": [
  {
   "cell_type": "code",
   "execution_count": 1,
   "metadata": {},
   "outputs": [],
   "source": [
    "%load_ext autoreload"
   ]
  },
  {
   "cell_type": "code",
   "execution_count": 2,
   "metadata": {},
   "outputs": [],
   "source": [
    "import sys\n",
    "sys.path.append(\"/home/aakash/College/GSoC/neural-extraction-framework/GSoC23\")"
   ]
  },
  {
   "cell_type": "code",
   "execution_count": 3,
   "metadata": {},
   "outputs": [],
   "source": [
    "import pandas as pd\n",
    "entities = pd.read_csv(\"./entities_from_abstracts.csv\")"
   ]
  },
  {
   "cell_type": "code",
   "execution_count": 4,
   "metadata": {},
   "outputs": [],
   "source": [
    "# I won't be considering DATE and CARDINAL, ORDINAL, QUANTITY, PERCENT will look at them separately\n",
    "selected_entities = entities[~entities['entity_group'].isin(\n",
    "    ['CARDINAL', 'ORDINAL', 'QUANTITY', 'PERCENT', 'DATE'])]"
   ]
  },
  {
   "cell_type": "code",
   "execution_count": 49,
   "metadata": {},
   "outputs": [],
   "source": [
    "# I won't be considering DATE and CARDINAL, ORDINAL, QUANTITY, PERCENT will look at them separately\n",
    "selected_entities = entities[~entities['entity_group'].isin(\n",
    "    ['CARDINAL', 'ORDINAL', 'QUANTITY', 'PERCENT', 'DATE'])]"
   ]
  },
  {
   "cell_type": "code",
   "execution_count": 5,
   "metadata": {},
   "outputs": [
    {
     "data": {
      "text/html": [
       "<div>\n",
       "<style scoped>\n",
       "    .dataframe tbody tr th:only-of-type {\n",
       "        vertical-align: middle;\n",
       "    }\n",
       "\n",
       "    .dataframe tbody tr th {\n",
       "        vertical-align: top;\n",
       "    }\n",
       "\n",
       "    .dataframe thead th {\n",
       "        text-align: right;\n",
       "    }\n",
       "</style>\n",
       "<table border=\"1\" class=\"dataframe\">\n",
       "  <thead>\n",
       "    <tr style=\"text-align: right;\">\n",
       "      <th></th>\n",
       "      <th>Unnamed: 0</th>\n",
       "      <th>entity_group</th>\n",
       "      <th>word</th>\n",
       "      <th>start</th>\n",
       "      <th>end</th>\n",
       "    </tr>\n",
       "  </thead>\n",
       "  <tbody>\n",
       "    <tr>\n",
       "      <th>0</th>\n",
       "      <td>0</td>\n",
       "      <td>PERSON</td>\n",
       "      <td>Lionel Andrés Messi</td>\n",
       "      <td>0</td>\n",
       "      <td>19</td>\n",
       "    </tr>\n",
       "    <tr>\n",
       "      <th>1</th>\n",
       "      <td>1</td>\n",
       "      <td>NORP</td>\n",
       "      <td>Spanh</td>\n",
       "      <td>21</td>\n",
       "      <td>28</td>\n",
       "    </tr>\n",
       "    <tr>\n",
       "      <th>3</th>\n",
       "      <td>3</td>\n",
       "      <td>PERSON</td>\n",
       "      <td>Leo Messi</td>\n",
       "      <td>103</td>\n",
       "      <td>112</td>\n",
       "    </tr>\n",
       "    <tr>\n",
       "      <th>4</th>\n",
       "      <td>4</td>\n",
       "      <td>NORP</td>\n",
       "      <td>Argente</td>\n",
       "      <td>120</td>\n",
       "      <td>129</td>\n",
       "    </tr>\n",
       "    <tr>\n",
       "      <th>5</th>\n",
       "      <td>5</td>\n",
       "      <td>ORG</td>\n",
       "      <td>Ligue 1</td>\n",
       "      <td>181</td>\n",
       "      <td>188</td>\n",
       "    </tr>\n",
       "    <tr>\n",
       "      <th>...</th>\n",
       "      <td>...</td>\n",
       "      <td>...</td>\n",
       "      <td>...</td>\n",
       "      <td>...</td>\n",
       "      <td>...</td>\n",
       "    </tr>\n",
       "    <tr>\n",
       "      <th>275</th>\n",
       "      <td>15</td>\n",
       "      <td>LOC</td>\n",
       "      <td>Europe</td>\n",
       "      <td>602</td>\n",
       "      <td>608</td>\n",
       "    </tr>\n",
       "    <tr>\n",
       "      <th>276</th>\n",
       "      <td>16</td>\n",
       "      <td>EVENT</td>\n",
       "      <td>World War II</td>\n",
       "      <td>691</td>\n",
       "      <td>703</td>\n",
       "    </tr>\n",
       "    <tr>\n",
       "      <th>281</th>\n",
       "      <td>21</td>\n",
       "      <td>ORG</td>\n",
       "      <td>Project Drawdown's</td>\n",
       "      <td>1510</td>\n",
       "      <td>1528</td>\n",
       "    </tr>\n",
       "    <tr>\n",
       "      <th>284</th>\n",
       "      <td>24</td>\n",
       "      <td>GPE</td>\n",
       "      <td>Cha</td>\n",
       "      <td>2592</td>\n",
       "      <td>2597</td>\n",
       "    </tr>\n",
       "    <tr>\n",
       "      <th>285</th>\n",
       "      <td>25</td>\n",
       "      <td>GPE</td>\n",
       "      <td>India</td>\n",
       "      <td>2599</td>\n",
       "      <td>2604</td>\n",
       "    </tr>\n",
       "  </tbody>\n",
       "</table>\n",
       "<p>164 rows × 5 columns</p>\n",
       "</div>"
      ],
      "text/plain": [
       "     Unnamed: 0 entity_group                 word  start   end\n",
       "0             0       PERSON  Lionel Andrés Messi      0    19\n",
       "1             1         NORP                Spanh     21    28\n",
       "3             3       PERSON            Leo Messi    103   112\n",
       "4             4         NORP              Argente    120   129\n",
       "5             5          ORG              Ligue 1    181   188\n",
       "..          ...          ...                  ...    ...   ...\n",
       "275          15          LOC               Europe    602   608\n",
       "276          16        EVENT         World War II    691   703\n",
       "281          21          ORG   Project Drawdown's   1510  1528\n",
       "284          24          GPE                  Cha   2592  2597\n",
       "285          25          GPE                India   2599  2604\n",
       "\n",
       "[164 rows x 5 columns]"
      ]
     },
     "execution_count": 5,
     "metadata": {},
     "output_type": "execute_result"
    }
   ],
   "source": [
    "selected_entities"
   ]
  },
  {
   "cell_type": "code",
   "execution_count": 29,
   "metadata": {},
   "outputs": [
    {
     "data": {
      "text/plain": [
       "(164, 164)"
      ]
     },
     "execution_count": 29,
     "metadata": {},
     "output_type": "execute_result"
    }
   ],
   "source": [
    "unique_entities = selected_entities.drop_duplicates()\n",
    "len(unique_entities), len(selected_entities)"
   ]
  },
  {
   "cell_type": "code",
   "execution_count": 39,
   "metadata": {},
   "outputs": [],
   "source": [
    "entity_and_link = {}\n",
    "%autoreload\n",
    "from EntityLinking.ELmethods import (\n",
    "    EL_DBpedia_lookup, \n",
    "    EL_DBpedia_spotlight,\n",
    "    EL_redis_db\n",
    "    )"
   ]
  },
  {
   "cell_type": "code",
   "execution_count": 40,
   "metadata": {},
   "outputs": [
    {
     "data": {
      "text/plain": [
       "{}"
      ]
     },
     "execution_count": 40,
     "metadata": {},
     "output_type": "execute_result"
    }
   ],
   "source": [
    "entity_and_link"
   ]
  },
  {
   "cell_type": "code",
   "execution_count": 7,
   "metadata": {},
   "outputs": [
    {
     "name": "stderr",
     "output_type": "stream",
     "text": [
      "/home/aakash/miniconda3/envs/gsoc/lib/python3.11/site-packages/tqdm/auto.py:21: TqdmWarning: IProgress not found. Please update jupyter and ipywidgets. See https://ipywidgets.readthedocs.io/en/stable/user_install.html\n",
      "  from .autonotebook import tqdm as notebook_tqdm\n"
     ]
    }
   ],
   "source": [
    "import spacy_dbpedia_spotlight\n",
    "nlp = spacy_dbpedia_spotlight.create('en')"
   ]
  },
  {
   "cell_type": "code",
   "execution_count": 41,
   "metadata": {},
   "outputs": [],
   "source": [
    "for e, grp in zip(selected_entities['word'], selected_entities['entity_group']):\n",
    "    ky = e+\"_\"+grp\n",
    "    entity_and_link[ky]={}\n",
    "    entity_and_link[ky]['candidates']=[]"
   ]
  },
  {
   "cell_type": "code",
   "execution_count": 42,
   "metadata": {},
   "outputs": [
    {
     "data": {
      "text/plain": [
       "{'Lionel Andrés Messi_PERSON': {'candidates': []},\n",
       " 'Spanh_NORP': {'candidates': []},\n",
       " 'Leo Messi_PERSON': {'candidates': []},\n",
       " 'Argente_NORP': {'candidates': []},\n",
       " 'Ligue 1_ORG': {'candidates': []},\n",
       " 'Par Sat-Germa_ORG': {'candidates': []},\n",
       " 'Argenta_GPE': {'candidates': []},\n",
       " 'Messi_PERSON': {'candidates': []},\n",
       " \"Ballon d'Or awards_WORK_OF_ART\": {'candidates': []},\n",
       " 'European Golden Shoes_WORK_OF_ART': {'candidates': []},\n",
       " \"Ballon d'Or Dream Team_WORK_OF_ART\": {'candidates': []},\n",
       " 'Barcelona_ORG': {'candidates': []},\n",
       " 'La Liga_ORG': {'candidates': []},\n",
       " 'Copa del Rey_EVENT': {'candidates': []},\n",
       " 'UEFA Champions Leagues_ORG': {'candidates': []},\n",
       " 'European_NORP': {'candidates': []},\n",
       " ' UEFA Champions League_ORG': {'candidates': []},\n",
       " ' Copa América_EVENT': {'candidates': []},\n",
       " 'South American_NORP': {'candidates': []},\n",
       " 'Spa_GPE': {'candidates': []},\n",
       " \"Ballon d'Or_WORK_OF_ART\": {'candidates': []},\n",
       " \"Ballons d'Or_WORK_OF_ART\": {'candidates': []},\n",
       " \" Ballon d'Or behd_WORK_OF_ART\": {'candidates': []},\n",
       " 'Crtiano Ronaldo_PERSON': {'candidates': []},\n",
       " 'FIFA World Youth Championship_EVENT': {'candidates': []},\n",
       " ' Golden Ball_WORK_OF_ART': {'candidates': []},\n",
       " 'Golden Shoe_WORK_OF_ART': {'candidates': []},\n",
       " 'Summer Olympics_EVENT': {'candidates': []},\n",
       " 'Diego Maradona_PERSON': {'candidates': []},\n",
       " 'a FIFA World Cup_EVENT': {'candidates': []},\n",
       " 'Copa América_EVENT': {'candidates': []},\n",
       " 'FIFA World Cup_EVENT': {'candidates': []},\n",
       " 'Golden Ball and Golden Boot_WORK_OF_ART': {'candidates': []},\n",
       " \"Ballon d'Or _WORK_OF_ART\": {'candidates': []},\n",
       " 'Adidas_ORG': {'candidates': []},\n",
       " 'France Football_ORG': {'candidates': []},\n",
       " 'Forbes_ORG': {'candidates': []},\n",
       " 'Time_ORG': {'candidates': []},\n",
       " ' Laureus World Sportsman of  Year_WORK_OF_ART': {'candidates': []},\n",
       " '$1 billion_MONEY': {'candidates': []},\n",
       " 'Rio de Janeiro_GPE': {'candidates': []},\n",
       " 'UK_GPE': {'candidates': []},\n",
       " 'US_GPE': {'candidates': []},\n",
       " 'Portuguese_NORP': {'candidates': []},\n",
       " 'Rio_GPE': {'candidates': []},\n",
       " 'Brazil_GPE': {'candidates': []},\n",
       " 'São Paulo_GPE': {'candidates': []},\n",
       " 'GaWC_ORG': {'candidates': []},\n",
       " 'Americas_LOC': {'candidates': []},\n",
       " 'Rio de Janeiro: Carioca Landscapes between  Mounta and  Sea_GPE': {'candidates': []},\n",
       " ' Portuguese Empire_ORG': {'candidates': []},\n",
       " ' Ste of Brazil_GPE': {'candidates': []},\n",
       " ' Portuguese Royal Court_ORG': {'candidates': []},\n",
       " 'Maria I_PERSON': {'candidates': []},\n",
       " 'Portugal_GPE': {'candidates': []},\n",
       " 'João VI_PERSON': {'candidates': []},\n",
       " ' United Kgdom_GPE': {'candidates': []},\n",
       " 'Algarves_PERSON': {'candidates': []},\n",
       " 'Lusitanian_NORP': {'candidates': []},\n",
       " ' Brazilian War of Independence_EVENT': {'candidates': []},\n",
       " ' Empire of Brazil_GPE': {'candidates': []},\n",
       " 'Brasília_GPE': {'candidates': []},\n",
       " 'R$343 billion_MONEY': {'candidates': []},\n",
       " 'nearly US$201 billion_MONEY': {'candidates': []},\n",
       " 'Brazilian_NORP': {'candidates': []},\n",
       " 'Petrobras_ORG': {'candidates': []},\n",
       " 'Vale_ORG': {'candidates': []},\n",
       " \"L America's_LOC\": {'candidates': []},\n",
       " 'Grupo Globo_ORG': {'candidates': []},\n",
       " ' Sourn Hemphere_LOC': {'candidates': []},\n",
       " 'Barra da Tijuca_GPE': {'candidates': []},\n",
       " 'Copacabana_LOC': {'candidates': []},\n",
       " 'Ipanema_LOC': {'candidates': []},\n",
       " 'Leblon_LOC': {'candidates': []},\n",
       " 'Chrt  Redeemer_PERSON': {'candidates': []},\n",
       " 'Corcovado_LOC': {'candidates': []},\n",
       " 'Sugarloaf Mounta_LOC': {'candidates': []},\n",
       " 'Carnival_EVENT': {'candidates': []},\n",
       " 'Maracanã Stadium_FAC': {'candidates': []},\n",
       " 'Summer Paralympics_EVENT': {'candidates': []},\n",
       " 'Portuguese_LANGUAGE': {'candidates': []},\n",
       " 'Olympics_EVENT': {'candidates': []},\n",
       " 'Sourn Hemphere_LOC': {'candidates': []},\n",
       " 'The Maracanã Stadium_FAC': {'candidates': []},\n",
       " 'FIFA World Cups_EVENT': {'candidates': []},\n",
       " 'FIFA Confederions Cup_EVENT': {'candidates': []},\n",
       " 'Pan American Games_EVENT': {'candidates': []},\n",
       " ' United Stes_GPE': {'candidates': []},\n",
       " 'Italy_GPE': {'candidates': []},\n",
       " 'Baked Alaska_PRODUCT': {'candidates': []},\n",
       " 'German_NORP': {'candidates': []},\n",
       " 'Carl Benz_PERSON': {'candidates': []},\n",
       " 'Benz_ORG': {'candidates': []},\n",
       " 'Model T_PRODUCT': {'candidates': []},\n",
       " 'American_NORP': {'candidates': []},\n",
       " ' Ford Mor Company_ORG': {'candidates': []},\n",
       " 'Europe_LOC': {'candidates': []},\n",
       " 'World War II_EVENT': {'candidates': []},\n",
       " \"Project Drawdown's_ORG\": {'candidates': []},\n",
       " 'Cha_GPE': {'candidates': []},\n",
       " 'India_GPE': {'candidates': []}}"
      ]
     },
     "execution_count": 42,
     "metadata": {},
     "output_type": "execute_result"
    }
   ],
   "source": [
    "entity_and_link"
   ]
  },
  {
   "cell_type": "code",
   "execution_count": 43,
   "metadata": {},
   "outputs": [
    {
     "data": {
      "text/plain": [
       "101"
      ]
     },
     "execution_count": 43,
     "metadata": {},
     "output_type": "execute_result"
    }
   ],
   "source": [
    "len(entity_and_link)"
   ]
  },
  {
   "cell_type": "code",
   "execution_count": 47,
   "metadata": {},
   "outputs": [
    {
     "name": "stdout",
     "output_type": "stream",
     "text": [
      "Time taken for lookup of 164 entities is 121.90965557098389 seconds\n"
     ]
    }
   ],
   "source": [
    "import time\n",
    "st = time.time()\n",
    "for e, grp in zip(selected_entities['word'], selected_entities['entity_group']):\n",
    "    # lookup_results = EL_DBpedia_lookup(e, max_results=2)\n",
    "    ky = e+\"_\"+grp\n",
    "    if ky in entity_and_link and len(entity_and_link[ky]['candidates'])!=0:\n",
    "        continue\n",
    "    lookup_results = EL_DBpedia_lookup(e, max_results=2)\n",
    "    entity_and_link[ky]['candidates'].extend(lookup_results)\n",
    "en = time.time()\n",
    "print(f\"Time taken for lookup of {len(selected_entities)} entities is {en-st} seconds\")"
   ]
  },
  {
   "cell_type": "code",
   "execution_count": 48,
   "metadata": {},
   "outputs": [
    {
     "data": {
      "text/plain": [
       "(100, 164, 101)"
      ]
     },
     "execution_count": 48,
     "metadata": {},
     "output_type": "execute_result"
    }
   ],
   "source": [
    "len(selected_entities['word'].unique()), len(selected_entities), len(entity_and_link)"
   ]
  },
  {
   "cell_type": "code",
   "execution_count": 49,
   "metadata": {},
   "outputs": [
    {
     "data": {
      "text/plain": [
       "{'Lionel Andrés Messi_PERSON': {'candidates': ['http://dbpedia.org/resource/Lionel_Messi',\n",
       "   'http://dbpedia.org/resource/Albacete_Balompié']},\n",
       " 'Spanh_NORP': {'candidates': ['http://dbpedia.org/resource/Space_rock',\n",
       "   'http://dbpedia.org/resource/NASA']},\n",
       " 'Leo Messi_PERSON': {'candidates': ['http://dbpedia.org/resource/Lionel_Messi',\n",
       "   'http://dbpedia.org/resource/List_of_minor_planets:_6001–7000']},\n",
       " 'Argente_NORP': {'candidates': ['http://dbpedia.org/resource/Argentina',\n",
       "   'http://dbpedia.org/resource/Argente']},\n",
       " 'Ligue 1_ORG': {'candidates': ['http://dbpedia.org/resource/Algerian_Ligue_Professionnelle_1',\n",
       "   'http://dbpedia.org/resource/Ligue_1']},\n",
       " 'Par Sat-Germa_ORG': {'candidates': ['http://dbpedia.org/resource/List_of_K-1_events',\n",
       "   'http://dbpedia.org/resource/United_Premier_Soccer_League']},\n",
       " 'Argenta_GPE': {'candidates': ['http://dbpedia.org/resource/Argentina',\n",
       "   'http://dbpedia.org/resource/Argentina_national_football_team']},\n",
       " 'Messi_PERSON': {'candidates': ['http://dbpedia.org/resource/Lionel_Messi',\n",
       "   'http://dbpedia.org/resource/Ronaldo–Messi_rivalry']},\n",
       " \"Ballon d'Or awards_WORK_OF_ART\": {'candidates': ['http://dbpedia.org/resource/Blackpool_F.C.',\n",
       "   'http://dbpedia.org/resource/Brescia_Calcio']},\n",
       " 'European Golden Shoes_WORK_OF_ART': {'candidates': ['http://dbpedia.org/resource/European_Golden_Shoe',\n",
       "   'http://dbpedia.org/resource/Central_European_Summer_Time']},\n",
       " \"Ballon d'Or Dream Team_WORK_OF_ART\": {'candidates': ['http://dbpedia.org/resource/Forward_(association_football)',\n",
       "   'http://dbpedia.org/resource/Blackpool_F.C.']},\n",
       " 'Barcelona_ORG': {'candidates': ['http://dbpedia.org/resource/Barcelona',\n",
       "   'http://dbpedia.org/resource/FC_Barcelona']},\n",
       " 'La Liga_ORG': {'candidates': ['http://dbpedia.org/resource/La_Liga',\n",
       "   'http://dbpedia.org/resource/2018–19_La_Liga']},\n",
       " 'Copa del Rey_EVENT': {'candidates': ['http://dbpedia.org/resource/Copa_del_Rey_de_Baloncesto',\n",
       "   'http://dbpedia.org/resource/Copa_del_Rey']},\n",
       " 'UEFA Champions Leagues_ORG': {'candidates': ['http://dbpedia.org/resource/UEFA_Champions_League',\n",
       "   'http://dbpedia.org/resource/2007–08_UEFA_Champions_League']},\n",
       " 'European_NORP': {'candidates': ['http://dbpedia.org/resource/Central_European_Time',\n",
       "   'http://dbpedia.org/resource/Central_European_Summer_Time']},\n",
       " ' UEFA Champions League_ORG': {'candidates': ['http://dbpedia.org/resource/UEFA_Champions_League',\n",
       "   'http://dbpedia.org/resource/2007–08_UEFA_Champions_League']},\n",
       " ' Copa América_EVENT': {'candidates': ['http://dbpedia.org/resource/Copa_América_de_Futsal',\n",
       "   'http://dbpedia.org/resource/Copa_América_Centenario']},\n",
       " 'South American_NORP': {'candidates': ['http://dbpedia.org/resource/Andes',\n",
       "   'http://dbpedia.org/resource/South_America']},\n",
       " 'Spa_GPE': {'candidates': ['http://dbpedia.org/resource/Spanish_language',\n",
       "   'http://dbpedia.org/resource/Thespakusatsu_Gunma']},\n",
       " \"Ballon d'Or_WORK_OF_ART\": {'candidates': [\"http://dbpedia.org/resource/Ballon_d'Or\",\n",
       "   \"http://dbpedia.org/resource/FIFA_Ballon_d'Or\"]},\n",
       " \"Ballons d'Or_WORK_OF_ART\": {'candidates': [\"http://dbpedia.org/resource/Ballon_d'Or\",\n",
       "   \"http://dbpedia.org/resource/FIFA_Ballon_d'Or\"]},\n",
       " \" Ballon d'Or behd_WORK_OF_ART\": {'candidates': ['http://dbpedia.org/resource/Blackpool_F.C.',\n",
       "   'http://dbpedia.org/resource/Brescia_Calcio']},\n",
       " 'Crtiano Ronaldo_PERSON': {'candidates': ['http://dbpedia.org/resource/Cristiano_Ronaldo',\n",
       "   'http://dbpedia.org/resource/Ronaldo–Messi_rivalry']},\n",
       " 'FIFA World Youth Championship_EVENT': {'candidates': ['http://dbpedia.org/resource/FIFA_U-20_World_Cup',\n",
       "   'http://dbpedia.org/resource/1997_FIFA_World_Youth_Championship']},\n",
       " ' Golden Ball_WORK_OF_ART': {'candidates': ['http://dbpedia.org/resource/Dragon_Ball',\n",
       "   'http://dbpedia.org/resource/Golden_Ball']},\n",
       " 'Golden Shoe_WORK_OF_ART': {'candidates': ['http://dbpedia.org/resource/European_Golden_Shoe',\n",
       "   'http://dbpedia.org/resource/Raffles_Place']},\n",
       " 'Summer Olympics_EVENT': {'candidates': ['http://dbpedia.org/resource/2020_Summer_Olympics',\n",
       "   'http://dbpedia.org/resource/Athletics_at_the_2020_Summer_Olympics']},\n",
       " 'Diego Maradona_PERSON': {'candidates': ['http://dbpedia.org/resource/Diego_Maradona',\n",
       "   'http://dbpedia.org/resource/Estadio_Diego_Armando_Maradona']},\n",
       " 'a FIFA World Cup_EVENT': {'candidates': ['http://dbpedia.org/resource/2006_FIFA_World_Cup',\n",
       "   'http://dbpedia.org/resource/2010_FIFA_World_Cup']},\n",
       " 'Copa América_EVENT': {'candidates': ['http://dbpedia.org/resource/Copa_América_de_Futsal',\n",
       "   'http://dbpedia.org/resource/Copa_América_Centenario']},\n",
       " 'FIFA World Cup_EVENT': {'candidates': ['http://dbpedia.org/resource/2006_FIFA_World_Cup',\n",
       "   'http://dbpedia.org/resource/2010_FIFA_World_Cup']},\n",
       " 'Golden Ball and Golden Boot_WORK_OF_ART': {'candidates': ['http://dbpedia.org/resource/FIFA_World_Cup_awards',\n",
       "   \"http://dbpedia.org/resource/FIFA_Women's_World_Cup_awards\"]},\n",
       " \"Ballon d'Or _WORK_OF_ART\": {'candidates': [\"http://dbpedia.org/resource/Ballon_d'Or\",\n",
       "   \"http://dbpedia.org/resource/FIFA_Ballon_d'Or\"]},\n",
       " 'Adidas_ORG': {'candidates': ['http://dbpedia.org/resource/Adidas',\n",
       "   'http://dbpedia.org/resource/Generation_Adidas']},\n",
       " 'France Football_ORG': {'candidates': ['http://dbpedia.org/resource/France_national_football_team',\n",
       "   'http://dbpedia.org/resource/France_national_under-21_football_team']},\n",
       " 'Forbes_ORG': {'candidates': ['http://dbpedia.org/resource/Forbes',\n",
       "   'http://dbpedia.org/resource/William_Trowbridge_Merrifield_Forbes']},\n",
       " 'Time_ORG': {'candidates': ['http://dbpedia.org/resource/Iran_Standard_Time',\n",
       "   'http://dbpedia.org/resource/Central_European_Time']},\n",
       " ' Laureus World Sportsman of  Year_WORK_OF_ART': {'candidates': ['http://dbpedia.org/resource/Laureus_World_Sports_Award_for_Sportswoman_of_the_Year',\n",
       "   'http://dbpedia.org/resource/United_States']},\n",
       " '$1 billion_MONEY': {'candidates': ['http://dbpedia.org/resource/Orders_of_magnitude_(length)',\n",
       "   'http://dbpedia.org/resource/Billion']},\n",
       " 'Rio de Janeiro_GPE': {'candidates': ['http://dbpedia.org/resource/Rio_de_Janeiro',\n",
       "   'http://dbpedia.org/resource/Rio_de_Janeiro_(state)']},\n",
       " 'UK_GPE': {'candidates': ['http://dbpedia.org/resource/United_Kingdom',\n",
       "   'http://dbpedia.org/resource/London']},\n",
       " 'US_GPE': {'candidates': ['http://dbpedia.org/resource/United_States',\n",
       "   'http://dbpedia.org/resource/Democratic_Party_(United_States)']},\n",
       " 'Portuguese_NORP': {'candidates': ['http://dbpedia.org/resource/Portuguese_language',\n",
       "   'http://dbpedia.org/resource/Portuguese_people']},\n",
       " 'Rio_GPE': {'candidates': ['http://dbpedia.org/resource/Rio_de_Janeiro',\n",
       "   'http://dbpedia.org/resource/Rio_Ave_F.C.']},\n",
       " 'Brazil_GPE': {'candidates': ['http://dbpedia.org/resource/Brazil',\n",
       "   'http://dbpedia.org/resource/Municipalities_of_Brazil']},\n",
       " 'São Paulo_GPE': {'candidates': ['http://dbpedia.org/resource/São_Paulo',\n",
       "   'http://dbpedia.org/resource/São_Paulo_(state)']},\n",
       " 'GaWC_ORG': {'candidates': ['http://dbpedia.org/resource/Globalization_and_World_Cities_Research_Network',\n",
       "   'http://dbpedia.org/resource/São_Paulo']},\n",
       " 'Americas_LOC': {'candidates': ['http://dbpedia.org/resource/United_States',\n",
       "   'http://dbpedia.org/resource/Central_Time_Zone']},\n",
       " 'Rio de Janeiro: Carioca Landscapes between  Mounta and  Sea_GPE': {'candidates': ['http://dbpedia.org/resource/Rio_de_Janeiro',\n",
       "   'http://dbpedia.org/resource/Spain']},\n",
       " ' Portuguese Empire_ORG': {'candidates': ['http://dbpedia.org/resource/Portuguese_Empire',\n",
       "   'http://dbpedia.org/resource/Portuguese_Angola']},\n",
       " ' Ste of Brazil_GPE': {'candidates': ['http://dbpedia.org/resource/Brazil',\n",
       "   'http://dbpedia.org/resource/Argentina']},\n",
       " ' Portuguese Royal Court_ORG': {'candidates': ['http://dbpedia.org/resource/Brazil',\n",
       "   'http://dbpedia.org/resource/Portugal']},\n",
       " 'Maria I_PERSON': {'candidates': ['http://dbpedia.org/resource/Maria_I_of_Portugal',\n",
       "   'http://dbpedia.org/resource/Infanta_Isabel_Maria_of_Braganza']},\n",
       " 'Portugal_GPE': {'candidates': ['http://dbpedia.org/resource/Portugal',\n",
       "   'http://dbpedia.org/resource/Portugal_national_football_team']},\n",
       " 'João VI_PERSON': {'candidates': ['http://dbpedia.org/resource/John_VI_of_Portugal',\n",
       "   'http://dbpedia.org/resource/João_Bernardo_Vieira']},\n",
       " ' United Kgdom_GPE': {'candidates': ['http://dbpedia.org/resource/United_States',\n",
       "   'http://dbpedia.org/resource/United_Kingdom']},\n",
       " 'Algarves_PERSON': {'candidates': ['http://dbpedia.org/resource/Algarve',\n",
       "   'http://dbpedia.org/resource/United_Kingdom_of_Portugal,_Brazil_and_the_Algarves']},\n",
       " 'Lusitanian_NORP': {'candidates': ['http://dbpedia.org/resource/Lusitanian_Catholic_Apostolic_Evangelical_Church',\n",
       "   'http://dbpedia.org/resource/Lusitânia_F.C.']},\n",
       " ' Brazilian War of Independence_EVENT': {'candidates': ['http://dbpedia.org/resource/War_of_Independence_of_Brazil',\n",
       "   'http://dbpedia.org/resource/Independence_of_Brazil']},\n",
       " ' Empire of Brazil_GPE': {'candidates': ['http://dbpedia.org/resource/Empire_of_Brazil',\n",
       "   'http://dbpedia.org/resource/Armed_Forces_of_the_Empire_of_Brazil']},\n",
       " 'Brasília_GPE': {'candidates': ['http://dbpedia.org/resource/Brasília',\n",
       "   'http://dbpedia.org/resource/Time_in_Brazil']},\n",
       " 'R$343 billion_MONEY': {'candidates': ['http://dbpedia.org/resource/Paris',\n",
       "   'http://dbpedia.org/resource/China']},\n",
       " 'nearly US$201 billion_MONEY': {'candidates': ['http://dbpedia.org/resource/United_States',\n",
       "   'http://dbpedia.org/resource/Insect']},\n",
       " 'Brazilian_NORP': {'candidates': ['http://dbpedia.org/resource/Brazil',\n",
       "   'http://dbpedia.org/resource/Brazil_national_football_team']},\n",
       " 'Petrobras_ORG': {'candidates': ['http://dbpedia.org/resource/Petrobras',\n",
       "   'http://dbpedia.org/resource/Petrobras_Argentina']},\n",
       " 'Vale_ORG': {'candidates': ['http://dbpedia.org/resource/Port_Vale_F.C.',\n",
       "   'http://dbpedia.org/resource/Vale_of_Glamorgan']},\n",
       " \"L America's_LOC\": {'candidates': ['http://dbpedia.org/resource/United_States',\n",
       "   'http://dbpedia.org/resource/Wisconsin']},\n",
       " 'Grupo Globo_ORG': {'candidates': ['http://dbpedia.org/resource/Grupo_Globo',\n",
       "   'http://dbpedia.org/resource/Grebo_language']},\n",
       " ' Sourn Hemphere_LOC': {'candidates': ['http://dbpedia.org/resource/South_Africa',\n",
       "   'http://dbpedia.org/resource/Time_in_Peru']},\n",
       " 'Barra da Tijuca_GPE': {'candidates': ['http://dbpedia.org/resource/Barra_da_Tijuca',\n",
       "   'http://dbpedia.org/resource/Clube_Atlético_da_Barra_da_Tijuca']},\n",
       " 'Copacabana_LOC': {'candidates': ['http://dbpedia.org/resource/Dubrovnik',\n",
       "   'http://dbpedia.org/resource/Copacabana,_Rio_de_Janeiro']},\n",
       " 'Ipanema_LOC': {'candidates': ['http://dbpedia.org/resource/The_Girl_from_Ipanema',\n",
       "   'http://dbpedia.org/resource/Embraer_EMB_202_Ipanema']},\n",
       " 'Leblon_LOC': {'candidates': ['http://dbpedia.org/resource/Lebanon',\n",
       "   'http://dbpedia.org/resource/Leblon_Cachaça']},\n",
       " 'Chrt  Redeemer_PERSON': {'candidates': ['http://dbpedia.org/resource/Order_of_the_Redeemer',\n",
       "   'http://dbpedia.org/resource/Detmold']},\n",
       " 'Corcovado_LOC': {'candidates': ['http://dbpedia.org/resource/Gulf_of_Corcovado',\n",
       "   'http://dbpedia.org/resource/Corcovado']},\n",
       " 'Sugarloaf Mounta_LOC': {'candidates': ['http://dbpedia.org/resource/List_of_mountains_named_Sugarloaf',\n",
       "   'http://dbpedia.org/resource/Sugarloaf_Mountain']},\n",
       " 'Carnival_EVENT': {'candidates': ['http://dbpedia.org/resource/Carnival',\n",
       "   'http://dbpedia.org/resource/Carnival_Corporation_&_plc']},\n",
       " 'Maracanã Stadium_FAC': {'candidates': ['http://dbpedia.org/resource/Maracanã_Stadium',\n",
       "   'http://dbpedia.org/resource/Red_Star_Stadium']},\n",
       " 'Summer Paralympics_EVENT': {'candidates': [\"http://dbpedia.org/resource/Athletics_at_the_2012_Summer_Paralympics_–_Men's_shot_put\",\n",
       "   \"http://dbpedia.org/resource/Athletics_at_the_2012_Summer_Paralympics_–_Men's_discus_throw\"]},\n",
       " 'Portuguese_LANGUAGE': {'candidates': ['http://dbpedia.org/resource/Portuguese_language',\n",
       "   'http://dbpedia.org/resource/Portuguese_people']},\n",
       " 'Olympics_EVENT': {'candidates': ['http://dbpedia.org/resource/2020_Summer_Olympics',\n",
       "   'http://dbpedia.org/resource/Athletics_at_the_2020_Summer_Olympics']},\n",
       " 'Sourn Hemphere_LOC': {'candidates': ['http://dbpedia.org/resource/South_Africa',\n",
       "   'http://dbpedia.org/resource/Time_in_Peru']},\n",
       " 'The Maracanã Stadium_FAC': {'candidates': ['http://dbpedia.org/resource/Maracanã_Stadium',\n",
       "   'http://dbpedia.org/resource/Red_Star_Stadium']},\n",
       " 'FIFA World Cups_EVENT': {'candidates': ['http://dbpedia.org/resource/2006_FIFA_World_Cup',\n",
       "   'http://dbpedia.org/resource/2010_FIFA_World_Cup']},\n",
       " 'FIFA Confederions Cup_EVENT': {'candidates': ['http://dbpedia.org/resource/FIFA_Confederations_Cup',\n",
       "   'http://dbpedia.org/resource/List_of_FIFA_Confederations_Cup_goalscorers']},\n",
       " 'Pan American Games_EVENT': {'candidates': ['http://dbpedia.org/resource/Pan_American_Games',\n",
       "   'http://dbpedia.org/resource/2015_Pan_American_Games']},\n",
       " ' United Stes_GPE': {'candidates': ['http://dbpedia.org/resource/United_States',\n",
       "   'http://dbpedia.org/resource/History_of_the_United_States']},\n",
       " 'Italy_GPE': {'candidates': ['http://dbpedia.org/resource/Italy',\n",
       "   'http://dbpedia.org/resource/Kingdom_of_Italy']},\n",
       " 'Baked Alaska_PRODUCT': {'candidates': ['http://dbpedia.org/resource/Baked_Alaska',\n",
       "   'http://dbpedia.org/resource/Baked_Alaska_(activist)']},\n",
       " 'German_NORP': {'candidates': ['http://dbpedia.org/resource/German_language',\n",
       "   'http://dbpedia.org/resource/German_Empire']},\n",
       " 'Carl Benz_PERSON': {'candidates': ['http://dbpedia.org/resource/Carl-Benz-Stadion',\n",
       "   'http://dbpedia.org/resource/Karl_Benz']},\n",
       " 'Benz_ORG': {'candidates': ['http://dbpedia.org/resource/Mercedes-Benz',\n",
       "   'http://dbpedia.org/resource/Mercedes-Benz_in_motorsport']},\n",
       " 'Model T_PRODUCT': {'candidates': ['http://dbpedia.org/resource/Model_(person)',\n",
       "   'http://dbpedia.org/resource/Ford_Model_T']},\n",
       " 'American_NORP': {'candidates': ['http://dbpedia.org/resource/United_States',\n",
       "   'http://dbpedia.org/resource/Americans']},\n",
       " ' Ford Mor Company_ORG': {'candidates': ['http://dbpedia.org/resource/Privately_held_company',\n",
       "   'http://dbpedia.org/resource/Ford_Motor_Company']},\n",
       " 'Europe_LOC': {'candidates': ['http://dbpedia.org/resource/Central_European_Time',\n",
       "   'http://dbpedia.org/resource/Eastern_European_Time']},\n",
       " 'World War II_EVENT': {'candidates': ['http://dbpedia.org/resource/World_War_II',\n",
       "   'http://dbpedia.org/resource/Eastern_Front_(World_War_II)']},\n",
       " \"Project Drawdown's_ORG\": {'candidates': ['http://dbpedia.org/resource/Drawdown_(climate)',\n",
       "   'http://dbpedia.org/resource/Record_producer']},\n",
       " 'Cha_GPE': {'candidates': ['http://dbpedia.org/resource/Chama_Cha_Mapinduzi',\n",
       "   'http://dbpedia.org/resource/Prayut_Chan-o-cha']},\n",
       " 'India_GPE': {'candidates': ['http://dbpedia.org/resource/India',\n",
       "   'http://dbpedia.org/resource/Indian_Standard_Time']}}"
      ]
     },
     "execution_count": 49,
     "metadata": {},
     "output_type": "execute_result"
    }
   ],
   "source": [
    "entity_and_link"
   ]
  },
  {
   "cell_type": "code",
   "execution_count": 52,
   "metadata": {},
   "outputs": [],
   "source": [
    "import pickle\n",
    "with open(\"./only_lookup_linking.pkl\",\"wb\") as f:\n",
    "    pickle.dump(entity_and_link, f)"
   ]
  },
  {
   "cell_type": "code",
   "execution_count": 24,
   "metadata": {},
   "outputs": [],
   "source": [
    "import spacy\n",
    "nlp = spacy.load(\"en_core_web_sm\")"
   ]
  },
  {
   "cell_type": "code",
   "execution_count": 51,
   "metadata": {},
   "outputs": [
    {
     "name": "stdout",
     "output_type": "stream",
     "text": [
      "England GPE\n",
      "England GPE\n",
      "Europe LOC\n"
     ]
    }
   ],
   "source": [
    "doc = nlp(\"England won the cricket world cup. England is a nation in Europe\")\n",
    "for ent in doc.ents:\n",
    "    print(ent, ent.label_)"
   ]
  },
  {
   "cell_type": "code",
   "execution_count": 53,
   "metadata": {},
   "outputs": [],
   "source": [
    "%autoreload\n",
    "from EntityLinking.ELmethods import (\n",
    "    EL_DBpedia_lookup, \n",
    "    EL_DBpedia_spotlight,\n",
    "    EL_redis_db\n",
    "    )"
   ]
  },
  {
   "cell_type": "code",
   "execution_count": 54,
   "metadata": {},
   "outputs": [],
   "source": [
    "for e in entity_and_link:\n",
    "    _, uris = EL_DBpedia_spotlight(e.split(\"_\")[0], nlp)\n",
    "    for u in uris:\n",
    "        link = uris[u][0]\n",
    "        if u in entity_and_link:\n",
    "            entity_and_link[e]['candidates'].append(link)\n"
   ]
  },
  {
   "cell_type": "code",
   "execution_count": 60,
   "metadata": {},
   "outputs": [],
   "source": [
    "with open(\"./lookup_and_spotlight_linking.pkl\",\"wb\") as f:\n",
    "    pickle.dump(entity_and_link, f)"
   ]
  },
  {
   "cell_type": "code",
   "execution_count": null,
   "metadata": {},
   "outputs": [],
   "source": []
  }
 ],
 "metadata": {
  "kernelspec": {
   "display_name": "gsoc",
   "language": "python",
   "name": "python3"
  },
  "language_info": {
   "codemirror_mode": {
    "name": "ipython",
    "version": 3
   },
   "file_extension": ".py",
   "mimetype": "text/x-python",
   "name": "python",
   "nbconvert_exporter": "python",
   "pygments_lexer": "ipython3",
   "version": "3.11.3"
  },
  "orig_nbformat": 4
 },
 "nbformat": 4,
 "nbformat_minor": 2
}
