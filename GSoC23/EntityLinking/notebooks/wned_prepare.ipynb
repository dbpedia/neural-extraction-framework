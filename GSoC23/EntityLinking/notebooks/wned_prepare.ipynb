{
 "cells": [
  {
   "attachments": {},
   "cell_type": "markdown",
   "metadata": {},
   "source": [
    "### Creating tagged sentences for GENRE"
   ]
  },
  {
   "cell_type": "code",
   "execution_count": 1,
   "metadata": {},
   "outputs": [],
   "source": [
    "# Set paths\n",
    "import os\n",
    "rawtext_dataset = \"../../../../WNED/wned-datasets/wikipedia/RawText/\"\n",
    "xml_path = \"../../../../WNED/wned-datasets/wikipedia/wikipedia.xml\"\n",
    "tsv_path = \"../../../../WNED/wned-datasets/wikipedia/wikipedia-name2bracket.tsv\""
   ]
  },
  {
   "cell_type": "code",
   "execution_count": 3,
   "metadata": {},
   "outputs": [],
   "source": [
    "from xml.etree import ElementTree as ET\n",
    "xml = ET.parse(xml_path)\n",
    "root = xml.getroot()"
   ]
  },
  {
   "cell_type": "code",
   "execution_count": 177,
   "metadata": {},
   "outputs": [],
   "source": [
    "from nltk.tokenize import sent_tokenize\n",
    "import html, re, nltk\n",
    "genre_dataset = {\"mention\":[], \"entity\":[], \"tagged_sentence\":[]}\n",
    "\n",
    "# def custom_sentence_tokenize(text):\n",
    "#     abbreviations = ['St.', 'G.S.', '1.', 'A.', 'Mt.', \n",
    "#                      'Dr.', 'H.G.', 'G.I.', 'Sv.']  # Add more abbreviations as needed\n",
    "#     placeholder = '__ABBREV__'\n",
    "\n",
    "#     # Replace abbreviations with placeholders\n",
    "#     for abbreviation in abbreviations:\n",
    "#         text = text.replace(abbreviation, placeholder)\n",
    "\n",
    "#     # Tokenize the text into sentences\n",
    "#     sentences = nltk.sent_tokenize(text)\n",
    "#     print(sentences)\n",
    "\n",
    "#     # Restore the original abbreviations in the sentences\n",
    "#     for i, sentence in enumerate(sentences):\n",
    "#         sentences[i] = sentence.replace(placeholder, abbreviations[i])\n",
    "\n",
    "#     return sentences\n",
    "# def fetch_sentence_with_word(document, word, offset):\n",
    "#     # Tokenize the document into sentences\n",
    "#     sentences = nltk.sent_tokenize(document)\n",
    "\n",
    "#     # Find the sentence that contains the word based on its offset\n",
    "#     for sentence in sentences:\n",
    "#         tokens = nltk.word_tokenize(sentence)\n",
    "#         start_index = tokens.index(word)\n",
    "#         end_index = start_index + len(word)\n",
    "\n",
    "#         if offset >= start_index and offset <= end_index:\n",
    "#             return sentence\n",
    "\n",
    "#     return None  # Word not found in any sentence"
   ]
  },
  {
   "cell_type": "code",
   "execution_count": 178,
   "metadata": {},
   "outputs": [],
   "source": [
    "for child in root:\n",
    "    doc_name = child.attrib['docName']\n",
    "    doc_text = doc_lines = None\n",
    "    with open(rawtext_dataset+doc_name, \"r\") as f:\n",
    "        doc_text = f.read()\n",
    "\n",
    "    # print(f\"Doc - {doc_name}\")\n",
    "    # doc_text = html.unescape(doc_text)\n",
    "    # doc_lines = sent_tokenize(doc_text)\n",
    "    \n",
    "    for annotation in child:\n",
    "        tagged_sentence = \"NaN\"\n",
    "        mention = annotation[0].text\n",
    "        entity = annotation[1].text\n",
    "        offset = int(annotation[2].text)\n",
    "        length = int(annotation[3].text)\n",
    "        start = offset\n",
    "        end = offset+length\n",
    "        \n",
    "        tagged_sentence = doc_text[:start] + '[START_ENT] ' + doc_text[start:end] + ' [END_ENT] ' + doc_text[end:]\n",
    "        sentences = sent_tokenize(tagged_sentence)\n",
    "        for s in sentences:\n",
    "            if '[START_ENT]' in s:\n",
    "                tagged_sentence = s\n",
    "                break\n",
    "        # print(f\"Mention: {mention}\")\n",
    "        # print(tagged_sentence)\n",
    "    \n",
    "    \n",
    "        genre_dataset['entity'].append(entity)\n",
    "        genre_dataset['mention'].append(mention)\n",
    "        genre_dataset['tagged_sentence'].append(tagged_sentence)\n"
   ]
  },
  {
   "cell_type": "code",
   "execution_count": 179,
   "metadata": {},
   "outputs": [],
   "source": [
    "import pandas as pd\n",
    "genre_dataset_df = pd.DataFrame(data=genre_dataset)"
   ]
  },
  {
   "cell_type": "code",
   "execution_count": 180,
   "metadata": {},
   "outputs": [
    {
     "data": {
      "text/html": [
       "<div>\n",
       "<style scoped>\n",
       "    .dataframe tbody tr th:only-of-type {\n",
       "        vertical-align: middle;\n",
       "    }\n",
       "\n",
       "    .dataframe tbody tr th {\n",
       "        vertical-align: top;\n",
       "    }\n",
       "\n",
       "    .dataframe thead th {\n",
       "        text-align: right;\n",
       "    }\n",
       "</style>\n",
       "<table border=\"1\" class=\"dataframe\">\n",
       "  <thead>\n",
       "    <tr style=\"text-align: right;\">\n",
       "      <th></th>\n",
       "      <th>mention</th>\n",
       "      <th>entity</th>\n",
       "      <th>tagged_sentence</th>\n",
       "    </tr>\n",
       "  </thead>\n",
       "  <tbody>\n",
       "  </tbody>\n",
       "</table>\n",
       "</div>"
      ],
      "text/plain": [
       "Empty DataFrame\n",
       "Columns: [mention, entity, tagged_sentence]\n",
       "Index: []"
      ]
     },
     "execution_count": 180,
     "metadata": {},
     "output_type": "execute_result"
    }
   ],
   "source": [
    "genre_dataset_df[genre_dataset_df['tagged_sentence'].isnull()]"
   ]
  },
  {
   "cell_type": "code",
   "execution_count": 29,
   "metadata": {},
   "outputs": [
    {
     "data": {
      "text/plain": [
       "'The Electoral division of Apsley is one of the 15 electorates or seats in the [START_ENT] Tasmanian Legislative Council [END_ENT] '"
      ]
     },
     "execution_count": 29,
     "metadata": {},
     "output_type": "execute_result"
    }
   ],
   "source": [
    "genre_dataset_df.iloc[0]['tagged_sentence']"
   ]
  },
  {
   "cell_type": "code",
   "execution_count": 181,
   "metadata": {},
   "outputs": [
    {
     "data": {
      "text/html": [
       "<div>\n",
       "<style scoped>\n",
       "    .dataframe tbody tr th:only-of-type {\n",
       "        vertical-align: middle;\n",
       "    }\n",
       "\n",
       "    .dataframe tbody tr th {\n",
       "        vertical-align: top;\n",
       "    }\n",
       "\n",
       "    .dataframe thead th {\n",
       "        text-align: right;\n",
       "    }\n",
       "</style>\n",
       "<table border=\"1\" class=\"dataframe\">\n",
       "  <thead>\n",
       "    <tr style=\"text-align: right;\">\n",
       "      <th></th>\n",
       "      <th>mention</th>\n",
       "      <th>entity</th>\n",
       "      <th>tagged_sentence</th>\n",
       "    </tr>\n",
       "  </thead>\n",
       "  <tbody>\n",
       "  </tbody>\n",
       "</table>\n",
       "</div>"
      ],
      "text/plain": [
       "Empty DataFrame\n",
       "Columns: [mention, entity, tagged_sentence]\n",
       "Index: []"
      ]
     },
     "execution_count": 181,
     "metadata": {},
     "output_type": "execute_result"
    }
   ],
   "source": [
    "genre_dataset_df[genre_dataset_df['tagged_sentence']=='NaN']"
   ]
  },
  {
   "cell_type": "code",
   "execution_count": 183,
   "metadata": {},
   "outputs": [],
   "source": [
    "genre_dataset_df.to_csv(\"./genre_tagged_wned_dataset.csv\")"
   ]
  },
  {
   "cell_type": "code",
   "execution_count": 184,
   "metadata": {},
   "outputs": [],
   "source": [
    "genre_dataset_read = pd.read_csv(\"./genre_tagged_wned_dataset.csv\")"
   ]
  },
  {
   "cell_type": "code",
   "execution_count": 185,
   "metadata": {},
   "outputs": [
    {
     "data": {
      "text/html": [
       "<div>\n",
       "<style scoped>\n",
       "    .dataframe tbody tr th:only-of-type {\n",
       "        vertical-align: middle;\n",
       "    }\n",
       "\n",
       "    .dataframe tbody tr th {\n",
       "        vertical-align: top;\n",
       "    }\n",
       "\n",
       "    .dataframe thead th {\n",
       "        text-align: right;\n",
       "    }\n",
       "</style>\n",
       "<table border=\"1\" class=\"dataframe\">\n",
       "  <thead>\n",
       "    <tr style=\"text-align: right;\">\n",
       "      <th></th>\n",
       "      <th>Unnamed: 0</th>\n",
       "      <th>mention</th>\n",
       "      <th>entity</th>\n",
       "      <th>tagged_sentence</th>\n",
       "    </tr>\n",
       "  </thead>\n",
       "  <tbody>\n",
       "  </tbody>\n",
       "</table>\n",
       "</div>"
      ],
      "text/plain": [
       "Empty DataFrame\n",
       "Columns: [Unnamed: 0, mention, entity, tagged_sentence]\n",
       "Index: []"
      ]
     },
     "execution_count": 185,
     "metadata": {},
     "output_type": "execute_result"
    }
   ],
   "source": [
    "genre_dataset_read[genre_dataset_read['tagged_sentence'].isnull()]"
   ]
  },
  {
   "cell_type": "code",
   "execution_count": 186,
   "metadata": {},
   "outputs": [
    {
     "data": {
      "text/html": [
       "<div>\n",
       "<style scoped>\n",
       "    .dataframe tbody tr th:only-of-type {\n",
       "        vertical-align: middle;\n",
       "    }\n",
       "\n",
       "    .dataframe tbody tr th {\n",
       "        vertical-align: top;\n",
       "    }\n",
       "\n",
       "    .dataframe thead th {\n",
       "        text-align: right;\n",
       "    }\n",
       "</style>\n",
       "<table border=\"1\" class=\"dataframe\">\n",
       "  <thead>\n",
       "    <tr style=\"text-align: right;\">\n",
       "      <th></th>\n",
       "      <th>mention</th>\n",
       "      <th>entity</th>\n",
       "      <th>tagged_sentence</th>\n",
       "    </tr>\n",
       "  </thead>\n",
       "  <tbody>\n",
       "  </tbody>\n",
       "</table>\n",
       "</div>"
      ],
      "text/plain": [
       "Empty DataFrame\n",
       "Columns: [mention, entity, tagged_sentence]\n",
       "Index: []"
      ]
     },
     "execution_count": 186,
     "metadata": {},
     "output_type": "execute_result"
    }
   ],
   "source": [
    "genre_dataset_df[genre_dataset_df['tagged_sentence']=='NaN']"
   ]
  },
  {
   "cell_type": "code",
   "execution_count": null,
   "metadata": {},
   "outputs": [],
   "source": []
  }
 ],
 "metadata": {
  "kernelspec": {
   "display_name": "gsoc",
   "language": "python",
   "name": "python3"
  },
  "language_info": {
   "codemirror_mode": {
    "name": "ipython",
    "version": 3
   },
   "file_extension": ".py",
   "mimetype": "text/x-python",
   "name": "python",
   "nbconvert_exporter": "python",
   "pygments_lexer": "ipython3",
   "version": "3.11.3"
  },
  "orig_nbformat": 4
 },
 "nbformat": 4,
 "nbformat_minor": 2
}
