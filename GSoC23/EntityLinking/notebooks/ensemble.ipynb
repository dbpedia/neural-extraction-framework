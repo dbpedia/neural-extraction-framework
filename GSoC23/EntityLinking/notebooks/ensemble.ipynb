{
 "cells": [
  {
   "cell_type": "code",
   "execution_count": 5,
   "metadata": {},
   "outputs": [],
   "source": [
    "%load_ext autoreload"
   ]
  },
  {
   "cell_type": "code",
   "execution_count": 21,
   "metadata": {},
   "outputs": [],
   "source": [
    "%autoreload\n",
    "from ELmethods import (\n",
    "    EL_DBpedia_lookup, \n",
    "    EL_DBpedia_spotlight,\n",
    "    EL_redis_db\n",
    "    )"
   ]
  },
  {
   "cell_type": "code",
   "execution_count": 3,
   "metadata": {},
   "outputs": [
    {
     "name": "stderr",
     "output_type": "stream",
     "text": [
      "/home/aakash/miniconda3/envs/gsoc/lib/python3.11/site-packages/tqdm/auto.py:21: TqdmWarning: IProgress not found. Please update jupyter and ipywidgets. See https://ipywidgets.readthedocs.io/en/stable/user_install.html\n",
      "  from .autonotebook import tqdm as notebook_tqdm\n"
     ]
    }
   ],
   "source": [
    "import spacy\n",
    "import spacy_dbpedia_spotlight\n",
    "# load your model as usual\n",
    "# nlp = spacy.load('en_core_web_sm')\n",
    "nlp = spacy_dbpedia_spotlight.create('en')"
   ]
  },
  {
   "cell_type": "code",
   "execution_count": 4,
   "metadata": {},
   "outputs": [
    {
     "data": {
      "text/plain": [
       "['dbpedia_spotlight']"
      ]
     },
     "execution_count": 4,
     "metadata": {},
     "output_type": "execute_result"
    }
   ],
   "source": [
    "# nlp.add_pipe('dbpedia_spotlight')\n",
    "nlp.pipe_names"
   ]
  },
  {
   "cell_type": "code",
   "execution_count": 5,
   "metadata": {},
   "outputs": [],
   "source": [
    "from redis import StrictRedis\n",
    " \n",
    "redis_forms = StrictRedis(host='172.17.0.2', port=7979, db=0)\n",
    "redis_redir = StrictRedis(host='172.17.0.2', port=7979, db=1)"
   ]
  },
  {
   "cell_type": "code",
   "execution_count": 15,
   "metadata": {},
   "outputs": [
    {
     "data": {
      "text/plain": [
       "True"
      ]
     },
     "execution_count": 15,
     "metadata": {},
     "output_type": "execute_result"
    }
   ],
   "source": [
    "redis_forms.ping()"
   ]
  },
  {
   "cell_type": "code",
   "execution_count": 6,
   "metadata": {},
   "outputs": [
    {
     "data": {
      "text/plain": [
       "['http://dbpedia.org/resource/United_States',\n",
       " 'http://dbpedia.org/resource/Democratic_Party_(United_States)']"
      ]
     },
     "execution_count": 6,
     "metadata": {},
     "output_type": "execute_result"
    }
   ],
   "source": [
    "# sample\n",
    "EL_DBpedia_lookup(\"USA\", max_results=2)"
   ]
  },
  {
   "cell_type": "code",
   "execution_count": 30,
   "metadata": {},
   "outputs": [
    {
     "data": {
      "text/plain": [
       "{'England': ['http://dbpedia.org/resource/England']}"
      ]
     },
     "execution_count": 30,
     "metadata": {},
     "output_type": "execute_result"
    }
   ],
   "source": [
    "texts, uris = EL_DBpedia_spotlight(\"England won the cricket world cup\", \n",
    "                                   nlp)\n",
    "uris"
   ]
  },
  {
   "cell_type": "code",
   "execution_count": 23,
   "metadata": {},
   "outputs": [],
   "source": [
    "redires = EL_redis_db(\"England\", redis_forms, redis_redir)"
   ]
  },
  {
   "cell_type": "code",
   "execution_count": 37,
   "metadata": {},
   "outputs": [
    {
     "data": {
      "text/plain": [
       "['England',\n",
       " 'England_national_football_team',\n",
       " 'England_cricket_team',\n",
       " 'England_national_rugby_union_team',\n",
       " 'The_Football_Association']"
      ]
     },
     "execution_count": 37,
     "metadata": {},
     "output_type": "execute_result"
    }
   ],
   "source": [
    "list(redires.index.values)"
   ]
  },
  {
   "attachments": {},
   "cell_type": "markdown",
   "metadata": {},
   "source": [
    "#### Flow:\n",
    "1. We have a piece of text.\n",
    "2. We will identify entities in it(for now manually, but later on using the ner module).\n",
    "3. Then we pass this entity as a query to the lookup or the redis database.\n",
    "4. For using spotlight, we need to pass it the entire text, it identifies the entities and also provides the dbpedia resource linked to each."
   ]
  },
  {
   "cell_type": "code",
   "execution_count": 31,
   "metadata": {},
   "outputs": [],
   "source": [
    "# Fix some 10 entities from some sentences\n",
    "sent1 = \"Lionel Messi is a football player from Argentina\"\n",
    "sent2 = \"Colorado is in USA\"\n",
    "sent3 = \"Hitler was the ruler of Germany during World-War-2\""
   ]
  },
  {
   "cell_type": "code",
   "execution_count": 32,
   "metadata": {},
   "outputs": [],
   "source": [
    "entities = [\n",
    "    \"Lionel Messi\",\n",
    "    \"Argentina\",\n",
    "    \"Colorado\",\n",
    "    \"USA\",\n",
    "    \"Hitler\",\n",
    "    \"Germany\",\n",
    "    \"World-War-2\"\n",
    "]"
   ]
  },
  {
   "cell_type": "code",
   "execution_count": 34,
   "metadata": {},
   "outputs": [],
   "source": [
    "candidate_mapping = {}\n",
    "for e in entities:\n",
    "    candidate_mapping[e]=[]"
   ]
  },
  {
   "cell_type": "code",
   "execution_count": 35,
   "metadata": {},
   "outputs": [],
   "source": [
    "# Process using lookup\n",
    "for e in entities:\n",
    "    lookup_results = EL_DBpedia_lookup(e, max_results=3)\n",
    "    candidate_mapping[e].extend(lookup_results)"
   ]
  },
  {
   "cell_type": "code",
   "execution_count": 36,
   "metadata": {},
   "outputs": [
    {
     "data": {
      "text/plain": [
       "{'Lionel Messi': ['http://dbpedia.org/resource/Lionel_Messi',\n",
       "  'http://dbpedia.org/resource/Ronaldo–Messi_rivalry',\n",
       "  'http://dbpedia.org/resource/List_of_career_achievements_by_Lionel_Messi'],\n",
       " 'Argentina': ['http://dbpedia.org/resource/Argentina',\n",
       "  'http://dbpedia.org/resource/Argentina_national_football_team',\n",
       "  'http://dbpedia.org/resource/Time_in_Argentina'],\n",
       " 'Colorado': ['http://dbpedia.org/resource/Colorado',\n",
       "  'http://dbpedia.org/resource/Colorado_Rapids',\n",
       "  'http://dbpedia.org/resource/Colorado_Springs,_Colorado'],\n",
       " 'USA': ['http://dbpedia.org/resource/United_States',\n",
       "  'http://dbpedia.org/resource/Democratic_Party_(United_States)',\n",
       "  'http://dbpedia.org/resource/California'],\n",
       " 'Hitler': ['http://dbpedia.org/resource/Adolf_Hitler',\n",
       "  'http://dbpedia.org/resource/Nazi_Germany',\n",
       "  'http://dbpedia.org/resource/Hitler_family'],\n",
       " 'World-War-2': ['http://dbpedia.org/resource/World_War_II',\n",
       "  'http://dbpedia.org/resource/Nazi_Germany',\n",
       "  'http://dbpedia.org/resource/Eastern_Front_(World_War_II)']}"
      ]
     },
     "execution_count": 36,
     "metadata": {},
     "output_type": "execute_result"
    }
   ],
   "source": [
    "# Check what lookup gave\n",
    "candidate_mapping"
   ]
  },
  {
   "cell_type": "code",
   "execution_count": 33,
   "metadata": {},
   "outputs": [
    {
     "data": {
      "text/plain": [
       "(['Hitler', 'Germany'],\n",
       " {'Hitler': ['http://dbpedia.org/resource/Adolf_Hitler'],\n",
       "  'Germany': ['http://dbpedia.org/resource/Germany']})"
      ]
     },
     "execution_count": 33,
     "metadata": {},
     "output_type": "execute_result"
    }
   ],
   "source": [
    "EL_DBpedia_spotlight(sent3, nlp)"
   ]
  },
  {
   "cell_type": "code",
   "execution_count": 38,
   "metadata": {},
   "outputs": [],
   "source": [
    "# Process using redis database\n",
    "for e in entities:\n",
    "    redis_res = EL_redis_db(e, redis_forms, redis_redir)\n",
    "    redis_res = ['http://dbpedia.org/resource/'+f for f in list(redis_res.index.values)]\n",
    "    candidate_mapping[e].extend(redis_res)"
   ]
  },
  {
   "cell_type": "code",
   "execution_count": 39,
   "metadata": {},
   "outputs": [
    {
     "data": {
      "text/plain": [
       "{'Lionel Messi': ['http://dbpedia.org/resource/Lionel_Messi',\n",
       "  'http://dbpedia.org/resource/Ronaldo–Messi_rivalry',\n",
       "  'http://dbpedia.org/resource/List_of_career_achievements_by_Lionel_Messi',\n",
       "  'http://dbpedia.org/resource/Lionel_Messi'],\n",
       " 'Argentina': ['http://dbpedia.org/resource/Argentina',\n",
       "  'http://dbpedia.org/resource/Argentina_national_football_team',\n",
       "  'http://dbpedia.org/resource/Time_in_Argentina',\n",
       "  'http://dbpedia.org/resource/Argentina',\n",
       "  'http://dbpedia.org/resource/Argentina_national_football_team',\n",
       "  'http://dbpedia.org/resource/Argentine_Football_Association',\n",
       "  'http://dbpedia.org/resource/Argentina_national_rugby_union_team'],\n",
       " 'Colorado': ['http://dbpedia.org/resource/Colorado',\n",
       "  'http://dbpedia.org/resource/Colorado_Rapids',\n",
       "  'http://dbpedia.org/resource/Colorado_Springs,_Colorado',\n",
       "  'http://dbpedia.org/resource/Colorado',\n",
       "  'http://dbpedia.org/resource/Colorado_Buffaloes_football',\n",
       "  \"http://dbpedia.org/resource/Colorado_Buffaloes_men's_basketball\",\n",
       "  'http://dbpedia.org/resource/Colorado_Buffaloes',\n",
       "  'http://dbpedia.org/resource/University_of_Colorado_Boulder'],\n",
       " 'USA': ['http://dbpedia.org/resource/United_States',\n",
       "  'http://dbpedia.org/resource/Democratic_Party_(United_States)',\n",
       "  'http://dbpedia.org/resource/California',\n",
       "  'http://dbpedia.org/resource/United_States',\n",
       "  'http://dbpedia.org/resource/USA_Network',\n",
       "  \"http://dbpedia.org/resource/United_States_men's_national_soccer_team\",\n",
       "  'http://dbpedia.org/resource/United_States_Soccer_Federation',\n",
       "  'http://dbpedia.org/resource/WeatherTech_Raceway_Laguna_Seca'],\n",
       " 'Hitler': ['http://dbpedia.org/resource/Adolf_Hitler',\n",
       "  'http://dbpedia.org/resource/Nazi_Germany',\n",
       "  'http://dbpedia.org/resource/Hitler_family',\n",
       "  'http://dbpedia.org/resource/Adolf_Hitler',\n",
       "  'http://dbpedia.org/resource/Hitler_(1996_film)',\n",
       "  'http://dbpedia.org/resource/Hitler_(1997_film)'],\n",
       " 'World-War-2': ['http://dbpedia.org/resource/World_War_II',\n",
       "  'http://dbpedia.org/resource/Nazi_Germany',\n",
       "  'http://dbpedia.org/resource/Eastern_Front_(World_War_II)']}"
      ]
     },
     "execution_count": 39,
     "metadata": {},
     "output_type": "execute_result"
    }
   ],
   "source": [
    "candidate_mapping"
   ]
  },
  {
   "cell_type": "code",
   "execution_count": 40,
   "metadata": {},
   "outputs": [],
   "source": [
    "final_mapping = {}\n",
    "for can in candidate_mapping:\n",
    "    final_mapping[can] = max(set(candidate_mapping[can]), key=candidate_mapping[can].count)"
   ]
  },
  {
   "cell_type": "code",
   "execution_count": 41,
   "metadata": {},
   "outputs": [
    {
     "data": {
      "text/plain": [
       "{'Lionel Messi': 'http://dbpedia.org/resource/Lionel_Messi',\n",
       " 'Argentina': 'http://dbpedia.org/resource/Argentina',\n",
       " 'Colorado': 'http://dbpedia.org/resource/Colorado',\n",
       " 'USA': 'http://dbpedia.org/resource/United_States',\n",
       " 'Hitler': 'http://dbpedia.org/resource/Adolf_Hitler',\n",
       " 'World-War-2': 'http://dbpedia.org/resource/World_War_II'}"
      ]
     },
     "execution_count": 41,
     "metadata": {},
     "output_type": "execute_result"
    }
   ],
   "source": [
    "final_mapping"
   ]
  },
  {
   "cell_type": "code",
   "execution_count": 42,
   "metadata": {},
   "outputs": [],
   "source": [
    "# Process using spotlight\n",
    "sent_texts = []\n",
    "sent_uris = []\n",
    "for s in [sent1, sent2, sent3]:\n",
    "    texts, uris = EL_DBpedia_spotlight(s, nlp)\n",
    "    sent_uris.append(uris)\n",
    "    sent_texts.append(texts)"
   ]
  },
  {
   "cell_type": "code",
   "execution_count": 43,
   "metadata": {},
   "outputs": [
    {
     "data": {
      "text/plain": [
       "[{'Lionel Messi': ['http://dbpedia.org/resource/Lionel_Messi'],\n",
       "  'football': ['http://dbpedia.org/resource/Association_football'],\n",
       "  'Argentina': ['http://dbpedia.org/resource/Argentina_national_football_team']},\n",
       " {'Colorado': ['http://dbpedia.org/resource/Colorado'],\n",
       "  'USA': ['http://dbpedia.org/resource/United_States']},\n",
       " {'Hitler': ['http://dbpedia.org/resource/Adolf_Hitler'],\n",
       "  'Germany': ['http://dbpedia.org/resource/Germany']}]"
      ]
     },
     "execution_count": 43,
     "metadata": {},
     "output_type": "execute_result"
    }
   ],
   "source": [
    "sent_uris"
   ]
  }
 ],
 "metadata": {
  "kernelspec": {
   "display_name": "gsoc",
   "language": "python",
   "name": "python3"
  },
  "language_info": {
   "codemirror_mode": {
    "name": "ipython",
    "version": 3
   },
   "file_extension": ".py",
   "mimetype": "text/x-python",
   "name": "python",
   "nbconvert_exporter": "python",
   "pygments_lexer": "ipython3",
   "version": "3.11.3"
  },
  "orig_nbformat": 4
 },
 "nbformat": 4,
 "nbformat_minor": 2
}
