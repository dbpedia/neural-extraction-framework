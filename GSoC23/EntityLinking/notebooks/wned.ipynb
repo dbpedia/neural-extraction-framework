{
 "cells": [
  {
   "attachments": {},
   "cell_type": "markdown",
   "metadata": {},
   "source": [
    "### Explore WNED data"
   ]
  },
  {
   "cell_type": "code",
   "execution_count": 1,
   "metadata": {},
   "outputs": [],
   "source": [
    "import os\n",
    "rawtext_dataset = \"../../../../WNED/wned-datasets/wikipedia/RawText/\"\n",
    "xml_path = \"../../../../WNED/wned-datasets/wikipedia/wikipedia.xml\"\n",
    "tsv_path = \"../../../../WNED/wned-datasets/wikipedia/wikipedia-name2bracket.tsv\""
   ]
  },
  {
   "cell_type": "code",
   "execution_count": 9,
   "metadata": {},
   "outputs": [
    {
     "data": {
      "text/plain": [
       "345"
      ]
     },
     "execution_count": 9,
     "metadata": {},
     "output_type": "execute_result"
    }
   ],
   "source": [
    "len(os.listdir(rawtext_dataset))"
   ]
  },
  {
   "cell_type": "code",
   "execution_count": 11,
   "metadata": {},
   "outputs": [],
   "source": [
    "import pandas as pd\n",
    "xml = pd.read_xml(xml_path)"
   ]
  },
  {
   "cell_type": "code",
   "execution_count": 16,
   "metadata": {},
   "outputs": [],
   "source": [
    "from xml.etree import ElementTree as ET\n",
    "\n",
    "xml = ET.parse(xml_path)"
   ]
  },
  {
   "cell_type": "code",
   "execution_count": 18,
   "metadata": {},
   "outputs": [
    {
     "data": {
      "text/plain": [
       "<Element 'wikipediaData.entityAnnotation' at 0x7fd0e31b4040>"
      ]
     },
     "execution_count": 18,
     "metadata": {},
     "output_type": "execute_result"
    }
   ],
   "source": [
    "root = xml.getroot()\n",
    "root"
   ]
  },
  {
   "cell_type": "code",
   "execution_count": 33,
   "metadata": {},
   "outputs": [],
   "source": [
    "mention_and_entity = {'mention':[], 'entity':[]}\n",
    "for child in root:\n",
    "    for ann in child:\n",
    "        mention_and_entity['mention'].append(ann[0].text) # mention\n",
    "        mention_and_entity['entity'].append(ann[1].text)  # wikiname"
   ]
  },
  {
   "cell_type": "code",
   "execution_count": 34,
   "metadata": {},
   "outputs": [],
   "source": [
    "mention_entity_dataset = pd.DataFrame(data=mention_and_entity, columns=['mention','entity'])"
   ]
  },
  {
   "cell_type": "code",
   "execution_count": 36,
   "metadata": {},
   "outputs": [],
   "source": [
    "mention_entity_dataset['uri'] = mention_entity_dataset['entity'].apply(\n",
    "    lambda x: \"http://dbpedia.org/resource/\"+\"_\".join(x.split(\" \"))\n",
    "    )"
   ]
  },
  {
   "cell_type": "code",
   "execution_count": 37,
   "metadata": {},
   "outputs": [
    {
     "data": {
      "text/html": [
       "<div>\n",
       "<style scoped>\n",
       "    .dataframe tbody tr th:only-of-type {\n",
       "        vertical-align: middle;\n",
       "    }\n",
       "\n",
       "    .dataframe tbody tr th {\n",
       "        vertical-align: top;\n",
       "    }\n",
       "\n",
       "    .dataframe thead th {\n",
       "        text-align: right;\n",
       "    }\n",
       "</style>\n",
       "<table border=\"1\" class=\"dataframe\">\n",
       "  <thead>\n",
       "    <tr style=\"text-align: right;\">\n",
       "      <th></th>\n",
       "      <th>mention</th>\n",
       "      <th>entity</th>\n",
       "      <th>uri</th>\n",
       "    </tr>\n",
       "  </thead>\n",
       "  <tbody>\n",
       "    <tr>\n",
       "      <th>0</th>\n",
       "      <td>Tasmanian Legislative Council</td>\n",
       "      <td>Tasmanian Legislative Council</td>\n",
       "      <td>http://dbpedia.org/resource/Tasmanian_Legislat...</td>\n",
       "    </tr>\n",
       "    <tr>\n",
       "      <th>1</th>\n",
       "      <td>upper house</td>\n",
       "      <td>Tasmanian Legislative Council</td>\n",
       "      <td>http://dbpedia.org/resource/Tasmanian_Legislat...</td>\n",
       "    </tr>\n",
       "    <tr>\n",
       "      <th>2</th>\n",
       "      <td>Murchison</td>\n",
       "      <td>Electoral division of Murchison</td>\n",
       "      <td>http://dbpedia.org/resource/Electoral_division...</td>\n",
       "    </tr>\n",
       "    <tr>\n",
       "      <th>3</th>\n",
       "      <td>Pipers River</td>\n",
       "      <td>Pipers River, Tasmania</td>\n",
       "      <td>http://dbpedia.org/resource/Pipers_River,_Tasm...</td>\n",
       "    </tr>\n",
       "    <tr>\n",
       "      <th>4</th>\n",
       "      <td>Scottsdale</td>\n",
       "      <td>Scottsdale, Tasmania</td>\n",
       "      <td>http://dbpedia.org/resource/Scottsdale,_Tasmania</td>\n",
       "    </tr>\n",
       "    <tr>\n",
       "      <th>...</th>\n",
       "      <td>...</td>\n",
       "      <td>...</td>\n",
       "      <td>...</td>\n",
       "    </tr>\n",
       "    <tr>\n",
       "      <th>6816</th>\n",
       "      <td>Miko</td>\n",
       "      <td>Miko</td>\n",
       "      <td>http://dbpedia.org/resource/Miko</td>\n",
       "    </tr>\n",
       "    <tr>\n",
       "      <th>6817</th>\n",
       "      <td>Rattan</td>\n",
       "      <td>Rattan</td>\n",
       "      <td>http://dbpedia.org/resource/Rattan</td>\n",
       "    </tr>\n",
       "    <tr>\n",
       "      <th>6818</th>\n",
       "      <td>Gold leaf</td>\n",
       "      <td>Gold leaf</td>\n",
       "      <td>http://dbpedia.org/resource/Gold_leaf</td>\n",
       "    </tr>\n",
       "    <tr>\n",
       "      <th>6819</th>\n",
       "      <td>male</td>\n",
       "      <td>Male</td>\n",
       "      <td>http://dbpedia.org/resource/Male</td>\n",
       "    </tr>\n",
       "    <tr>\n",
       "      <th>6820</th>\n",
       "      <td>female</td>\n",
       "      <td>Female</td>\n",
       "      <td>http://dbpedia.org/resource/Female</td>\n",
       "    </tr>\n",
       "  </tbody>\n",
       "</table>\n",
       "<p>6821 rows × 3 columns</p>\n",
       "</div>"
      ],
      "text/plain": [
       "                            mention                           entity   \n",
       "0     Tasmanian Legislative Council    Tasmanian Legislative Council  \\\n",
       "1                       upper house    Tasmanian Legislative Council   \n",
       "2                         Murchison  Electoral division of Murchison   \n",
       "3                      Pipers River           Pipers River, Tasmania   \n",
       "4                        Scottsdale             Scottsdale, Tasmania   \n",
       "...                             ...                              ...   \n",
       "6816                           Miko                             Miko   \n",
       "6817                         Rattan                           Rattan   \n",
       "6818                      Gold leaf                        Gold leaf   \n",
       "6819                           male                             Male   \n",
       "6820                         female                           Female   \n",
       "\n",
       "                                                    uri  \n",
       "0     http://dbpedia.org/resource/Tasmanian_Legislat...  \n",
       "1     http://dbpedia.org/resource/Tasmanian_Legislat...  \n",
       "2     http://dbpedia.org/resource/Electoral_division...  \n",
       "3     http://dbpedia.org/resource/Pipers_River,_Tasm...  \n",
       "4      http://dbpedia.org/resource/Scottsdale,_Tasmania  \n",
       "...                                                 ...  \n",
       "6816                   http://dbpedia.org/resource/Miko  \n",
       "6817                 http://dbpedia.org/resource/Rattan  \n",
       "6818              http://dbpedia.org/resource/Gold_leaf  \n",
       "6819                   http://dbpedia.org/resource/Male  \n",
       "6820                 http://dbpedia.org/resource/Female  \n",
       "\n",
       "[6821 rows x 3 columns]"
      ]
     },
     "execution_count": 37,
     "metadata": {},
     "output_type": "execute_result"
    }
   ],
   "source": [
    "mention_entity_dataset"
   ]
  },
  {
   "cell_type": "code",
   "execution_count": 38,
   "metadata": {},
   "outputs": [],
   "source": [
    "mention_entity_dataset.to_csv(\"./wned_wiki_dataset.csv\")"
   ]
  },
  {
   "attachments": {},
   "cell_type": "markdown",
   "metadata": {},
   "source": [
    "### Evaluate methods"
   ]
  },
  {
   "cell_type": "code",
   "execution_count": 1,
   "metadata": {},
   "outputs": [],
   "source": [
    "import sys\n",
    "sys.path.append(\"../../../GSoC23/\")"
   ]
  },
  {
   "attachments": {},
   "cell_type": "markdown",
   "metadata": {},
   "source": [
    "#### Lookup takes around 120 minutes for 6821 entities."
   ]
  },
  {
   "cell_type": "code",
   "execution_count": 47,
   "metadata": {},
   "outputs": [],
   "source": [
    "# Lookup\n",
    "lookup_results = []\n",
    "from EntityLinking.ELmethods import EL_DBpedia_lookup    "
   ]
  },
  {
   "cell_type": "code",
   "execution_count": 53,
   "metadata": {},
   "outputs": [
    {
     "name": "stdout",
     "output_type": "stream",
     "text": [
      "Entity linking using lookup\n",
      "Time taken for 50 entities: 52.619186878204346 seconds\n",
      "Time taken for 50 entities: 50.00544810295105 seconds\n",
      "Time taken for 50 entities: 53.38618850708008 seconds\n",
      "Time taken for 50 entities: 52.81750750541687 seconds\n",
      "Time taken for 50 entities: 49.695708990097046 seconds\n",
      "Time taken for 50 entities: 51.184513330459595 seconds\n",
      "Time taken for 50 entities: 54.49206233024597 seconds\n",
      "Time taken for 50 entities: 49.24910044670105 seconds\n",
      "Time taken for 50 entities: 50.16962027549744 seconds\n",
      "Time taken for 50 entities: 47.4178249835968 seconds\n",
      "Time taken for 50 entities: 53.95074105262756 seconds\n",
      "Time taken for 50 entities: 49.91064786911011 seconds\n",
      "Time taken for 50 entities: 51.1007022857666 seconds\n",
      "Time taken for 50 entities: 53.22743201255798 seconds\n",
      "Time taken for 50 entities: 49.382572174072266 seconds\n",
      "Time taken for 50 entities: 50.55260920524597 seconds\n",
      "Time taken for 50 entities: 59.80045127868652 seconds\n",
      "Time taken for 50 entities: 52.469740867614746 seconds\n",
      "Time taken for 50 entities: 48.436338901519775 seconds\n",
      "Time taken for 50 entities: 50.679275035858154 seconds\n",
      "Time taken for 50 entities: 48.52538561820984 seconds\n",
      "Time taken for 50 entities: 50.01630401611328 seconds\n",
      "Time taken for 50 entities: 48.39932107925415 seconds\n",
      "Time taken for 50 entities: 49.52381610870361 seconds\n",
      "Time taken for 50 entities: 48.88782072067261 seconds\n",
      "Time taken for 50 entities: 51.52315139770508 seconds\n",
      "Time taken for 50 entities: 50.35392665863037 seconds\n",
      "Time taken for 50 entities: 48.48402142524719 seconds\n",
      "Time taken for 50 entities: 53.215636014938354 seconds\n",
      "Time taken for 50 entities: 49.978501319885254 seconds\n",
      "Time taken for 50 entities: 48.2471559047699 seconds\n",
      "Time taken for 50 entities: 49.45565104484558 seconds\n",
      "Time taken for 50 entities: 53.134138107299805 seconds\n",
      "Time taken for 50 entities: 51.42085647583008 seconds\n",
      "Time taken for 50 entities: 51.27238988876343 seconds\n",
      "Time taken for 50 entities: 51.73247575759888 seconds\n",
      "Time taken for 50 entities: 49.64959979057312 seconds\n",
      "Time taken for 50 entities: 45.382060527801514 seconds\n",
      "Time taken for 50 entities: 51.88250231742859 seconds\n",
      "Time taken for 50 entities: 51.79610347747803 seconds\n",
      "Time taken for 50 entities: 48.1565842628479 seconds\n",
      "Time taken for 50 entities: 50.13473415374756 seconds\n",
      "Time taken for 50 entities: 51.89438199996948 seconds\n",
      "Time taken for 50 entities: 51.075501680374146 seconds\n",
      "Time taken for 50 entities: 51.73592567443848 seconds\n",
      "Time taken for 50 entities: 48.506410360336304 seconds\n",
      "Time taken for 50 entities: 55.304314851760864 seconds\n",
      "Time taken for 50 entities: 51.98893332481384 seconds\n",
      "Time taken for 50 entities: 51.35809326171875 seconds\n",
      "Time taken for 50 entities: 46.800267457962036 seconds\n",
      "Time taken for 50 entities: 54.25221538543701 seconds\n",
      "Time taken for 50 entities: 53.7823486328125 seconds\n",
      "Time taken for 50 entities: 50.04468631744385 seconds\n",
      "Time taken for 50 entities: 51.33333969116211 seconds\n",
      "Time taken for 50 entities: 54.70070505142212 seconds\n",
      "Time taken for 50 entities: 47.693065881729126 seconds\n",
      "Time taken for 50 entities: 48.50339722633362 seconds\n",
      "Time taken for 50 entities: 50.69505000114441 seconds\n",
      "Time taken for 50 entities: 48.9431586265564 seconds\n",
      "Time taken for 50 entities: 51.452921867370605 seconds\n",
      "Time taken for 50 entities: 51.82481813430786 seconds\n",
      "Time taken for 50 entities: 48.85671615600586 seconds\n",
      "Time taken for 50 entities: 48.32073974609375 seconds\n",
      "Time taken for 50 entities: 51.63374853134155 seconds\n",
      "Time taken for 50 entities: 49.528783082962036 seconds\n",
      "Time taken for 50 entities: 50.564547061920166 seconds\n",
      "Time taken for 50 entities: 51.43095111846924 seconds\n",
      "Time taken for 50 entities: 57.405153036117554 seconds\n",
      "Time taken for 50 entities: 50.26132321357727 seconds\n",
      "Time taken for 50 entities: 53.66421699523926 seconds\n",
      "Time taken for 50 entities: 50.47813177108765 seconds\n",
      "Time taken for 50 entities: 57.543362855911255 seconds\n",
      "Time taken for 50 entities: 54.94573974609375 seconds\n",
      "Time taken for 50 entities: 50.148821115493774 seconds\n",
      "Time taken for 50 entities: 49.94018626213074 seconds\n",
      "Time taken for 50 entities: 51.082497119903564 seconds\n",
      "Time taken for 50 entities: 52.52823615074158 seconds\n",
      "Time taken for 50 entities: 59.34052038192749 seconds\n",
      "Time taken for 50 entities: 49.78111696243286 seconds\n",
      "Time taken for 50 entities: 47.945226430892944 seconds\n",
      "Time taken for 50 entities: 48.282235860824585 seconds\n",
      "Time taken for 50 entities: 54.88707947731018 seconds\n",
      "Time taken for 50 entities: 56.24500489234924 seconds\n",
      "Time taken for 50 entities: 49.25140714645386 seconds\n",
      "Time taken for 50 entities: 55.50645732879639 seconds\n",
      "Time taken for 50 entities: 51.206048250198364 seconds\n",
      "Time taken for 50 entities: 50.0747754573822 seconds\n",
      "Time taken for 50 entities: 52.84204912185669 seconds\n",
      "Time taken for 50 entities: 50.3100163936615 seconds\n",
      "Time taken for 50 entities: 51.18394422531128 seconds\n",
      "Time taken for 50 entities: 49.95979332923889 seconds\n",
      "Time taken for 50 entities: 51.40553689002991 seconds\n",
      "Time taken for 50 entities: 50.79877161979675 seconds\n",
      "Time taken for 50 entities: 50.27954316139221 seconds\n",
      "Time taken for 50 entities: 49.17349934577942 seconds\n",
      "Time taken for 50 entities: 48.310173749923706 seconds\n",
      "Time taken for 50 entities: 46.48440384864807 seconds\n",
      "Time taken for 50 entities: 49.46249985694885 seconds\n",
      "Time taken for 50 entities: 48.578232526779175 seconds\n",
      "Time taken for 50 entities: 52.68795394897461 seconds\n",
      "Time taken for 50 entities: 50.48221778869629 seconds\n",
      "Time taken for 50 entities: 52.32369065284729 seconds\n",
      "Time taken for 50 entities: 49.778199195861816 seconds\n",
      "Time taken for 50 entities: 50.03266453742981 seconds\n",
      "Time taken for 50 entities: 47.66189908981323 seconds\n",
      "Time taken for 50 entities: 48.86230230331421 seconds\n",
      "Time taken for 50 entities: 51.46739959716797 seconds\n",
      "Time taken for 50 entities: 50.377135038375854 seconds\n",
      "Time taken for 50 entities: 48.025659799575806 seconds\n",
      "Time taken for 50 entities: 52.682809352874756 seconds\n",
      "Time taken for 50 entities: 50.12182950973511 seconds\n",
      "Time taken for 50 entities: 53.04722356796265 seconds\n",
      "Time taken for 50 entities: 57.34772992134094 seconds\n",
      "Time taken for 50 entities: 48.63170552253723 seconds\n",
      "Time taken for 50 entities: 53.17210388183594 seconds\n",
      "Time taken for 50 entities: 48.306575775146484 seconds\n",
      "Time taken for 50 entities: 56.27721619606018 seconds\n",
      "Time taken for 50 entities: 51.03148651123047 seconds\n",
      "Time taken for 50 entities: 55.19320011138916 seconds\n",
      "Time taken for 50 entities: 55.85032653808594 seconds\n",
      "Time taken for 50 entities: 49.08144521713257 seconds\n",
      "Time taken for 50 entities: 51.12390637397766 seconds\n",
      "Time taken for 50 entities: 55.533060789108276 seconds\n",
      "Time taken for 50 entities: 49.65429949760437 seconds\n",
      "Time taken for 50 entities: 52.507070779800415 seconds\n",
      "Time taken for 50 entities: 50.22090005874634 seconds\n",
      "Time taken for 50 entities: 55.86427903175354 seconds\n",
      "Time taken for 50 entities: 53.48916935920715 seconds\n",
      "Time taken for 50 entities: 47.00430345535278 seconds\n",
      "Time taken for 50 entities: 54.74226117134094 seconds\n",
      "Time taken for 50 entities: 52.234925985336304 seconds\n",
      "Time taken for 50 entities: 52.91837430000305 seconds\n",
      "Time taken for 50 entities: 54.38546180725098 seconds\n"
     ]
    }
   ],
   "source": [
    "import time\n",
    "print(\"Entity linking using lookup\")\n",
    "start = time.time()\n",
    "for i,ent_mention in enumerate(mention_entity_dataset['mention'].to_list()[122:]):\n",
    "    result = EL_DBpedia_lookup(ent_mention, max_results=1)\n",
    "    if len(result)==0:\n",
    "        lookup_results.append(\"NaN\")\n",
    "    else:\n",
    "        lookup_results.append(result[0])\n",
    "    if (i+1)%50==0 and i!=0:\n",
    "        end = time.time()\n",
    "        print(f\"Time taken for 50 entities: {end-start} seconds\")\n",
    "        start = time.time()"
   ]
  },
  {
   "cell_type": "code",
   "execution_count": 54,
   "metadata": {},
   "outputs": [
    {
     "data": {
      "text/plain": [
       "6821"
      ]
     },
     "execution_count": 54,
     "metadata": {},
     "output_type": "execute_result"
    }
   ],
   "source": [
    "len(lookup_results)"
   ]
  },
  {
   "cell_type": "code",
   "execution_count": 52,
   "metadata": {},
   "outputs": [
    {
     "data": {
      "text/plain": [
       "[]"
      ]
     },
     "execution_count": 52,
     "metadata": {},
     "output_type": "execute_result"
    }
   ],
   "source": [
    "EL_DBpedia_lookup(mention_entity_dataset['mention'].to_list()[122], max_results=1)"
   ]
  },
  {
   "cell_type": "code",
   "execution_count": 55,
   "metadata": {},
   "outputs": [],
   "source": [
    "mention_entity_dataset['lookup_results'] = lookup_results"
   ]
  },
  {
   "cell_type": "code",
   "execution_count": 56,
   "metadata": {},
   "outputs": [],
   "source": [
    "mention_entity_dataset.to_csv(\"./wned_wiki_dataset.csv\")"
   ]
  },
  {
   "cell_type": "code",
   "execution_count": 58,
   "metadata": {},
   "outputs": [],
   "source": [
    "acc = len(mention_entity_dataset[mention_entity_dataset['uri']==mention_entity_dataset['lookup_results']])/len(mention_entity_dataset)"
   ]
  },
  {
   "cell_type": "code",
   "execution_count": 59,
   "metadata": {},
   "outputs": [
    {
     "data": {
      "text/plain": [
       "0.0035185456677906467"
      ]
     },
     "execution_count": 59,
     "metadata": {},
     "output_type": "execute_result"
    }
   ],
   "source": [
    "acc"
   ]
  },
  {
   "cell_type": "code",
   "execution_count": 60,
   "metadata": {},
   "outputs": [
    {
     "data": {
      "text/plain": [
       "24.0"
      ]
     },
     "execution_count": 60,
     "metadata": {},
     "output_type": "execute_result"
    }
   ],
   "source": [
    "acc*len(mention_entity_dataset)"
   ]
  },
  {
   "attachments": {},
   "cell_type": "markdown",
   "metadata": {},
   "source": [
    "#### Redis db takes around 1.5 minutes for 6821 entities"
   ]
  },
  {
   "cell_type": "code",
   "execution_count": 2,
   "metadata": {},
   "outputs": [],
   "source": [
    "# Using the surface-forms redis database\n",
    "from redis import StrictRedis\n",
    "from EntityLinking.ELmethods import EL_redis_db    \n",
    "redis_forms = StrictRedis(host='172.17.0.2', port=7979, db=0)\n",
    "redis_redir = StrictRedis(host='172.17.0.2', port=7979, db=1)"
   ]
  },
  {
   "cell_type": "code",
   "execution_count": 8,
   "metadata": {},
   "outputs": [],
   "source": [
    "from EntityLinking.utilities import get_majority_vote"
   ]
  },
  {
   "cell_type": "code",
   "execution_count": 19,
   "metadata": {},
   "outputs": [],
   "source": [
    "import time\n",
    "import pandas as pd\n",
    "mention_entity_dataset = pd.read_csv(\"./wned_wiki_dataset.csv\")\n",
    "redis_results = []"
   ]
  },
  {
   "cell_type": "code",
   "execution_count": 20,
   "metadata": {},
   "outputs": [
    {
     "name": "stdout",
     "output_type": "stream",
     "text": [
      "Entity linking using redis surface forms\n",
      "Time taken for 50 entities: 1.096778154373169 seconds\n",
      "Time taken for 50 entities: 3.0428106784820557 seconds\n",
      "Time taken for 50 entities: 1.434004783630371 seconds\n",
      "Time taken for 50 entities: 2.1390323638916016 seconds\n",
      "Time taken for 50 entities: 0.533322811126709 seconds\n",
      "Time taken for 50 entities: 2.5464718341827393 seconds\n",
      "Time taken for 50 entities: 0.5816860198974609 seconds\n",
      "Time taken for 50 entities: 0.5372681617736816 seconds\n",
      "Time taken for 50 entities: 1.1599137783050537 seconds\n",
      "Time taken for 50 entities: 0.9162073135375977 seconds\n",
      "Time taken for 50 entities: 0.7069635391235352 seconds\n",
      "Time taken for 50 entities: 0.798771858215332 seconds\n",
      "Time taken for 50 entities: 1.9460337162017822 seconds\n",
      "Time taken for 50 entities: 2.2771129608154297 seconds\n",
      "Time taken for 50 entities: 1.1284294128417969 seconds\n",
      "Time taken for 50 entities: 0.5680899620056152 seconds\n",
      "Time taken for 50 entities: 0.6935007572174072 seconds\n",
      "Time taken for 50 entities: 0.4384627342224121 seconds\n",
      "Time taken for 50 entities: 0.4329841136932373 seconds\n",
      "Time taken for 50 entities: 1.9949159622192383 seconds\n",
      "Time taken for 50 entities: 0.9455459117889404 seconds\n",
      "Time taken for 50 entities: 0.45053648948669434 seconds\n",
      "Time taken for 50 entities: 2.9036319255828857 seconds\n",
      "Time taken for 50 entities: 1.3424618244171143 seconds\n",
      "Time taken for 50 entities: 0.4987924098968506 seconds\n",
      "Time taken for 50 entities: 0.5756521224975586 seconds\n",
      "Time taken for 50 entities: 0.37819504737854004 seconds\n",
      "Time taken for 50 entities: 1.0306129455566406 seconds\n",
      "Time taken for 50 entities: 0.3568716049194336 seconds\n",
      "Time taken for 50 entities: 1.2766797542572021 seconds\n",
      "Time taken for 50 entities: 0.7651762962341309 seconds\n",
      "Time taken for 50 entities: 1.5293798446655273 seconds\n",
      "Time taken for 50 entities: 0.4414081573486328 seconds\n",
      "Time taken for 50 entities: 0.579099178314209 seconds\n",
      "Time taken for 50 entities: 1.432436466217041 seconds\n",
      "Time taken for 50 entities: 0.8571701049804688 seconds\n",
      "Time taken for 50 entities: 2.5035059452056885 seconds\n",
      "Time taken for 50 entities: 1.1899933815002441 seconds\n",
      "Time taken for 50 entities: 0.4846665859222412 seconds\n",
      "Time taken for 50 entities: 0.22985458374023438 seconds\n",
      "Time taken for 50 entities: 0.5376219749450684 seconds\n",
      "Time taken for 50 entities: 0.9077358245849609 seconds\n",
      "Time taken for 50 entities: 0.4064178466796875 seconds\n",
      "Time taken for 50 entities: 0.503173828125 seconds\n",
      "Time taken for 50 entities: 0.7078800201416016 seconds\n",
      "Time taken for 50 entities: 0.39139533042907715 seconds\n",
      "Time taken for 50 entities: 0.6453797817230225 seconds\n",
      "Time taken for 50 entities: 1.6128389835357666 seconds\n",
      "Time taken for 50 entities: 0.3852863311767578 seconds\n",
      "Time taken for 50 entities: 0.6741552352905273 seconds\n",
      "Time taken for 50 entities: 0.44861602783203125 seconds\n",
      "Time taken for 50 entities: 0.7635571956634521 seconds\n",
      "Time taken for 50 entities: 0.7805335521697998 seconds\n",
      "Time taken for 50 entities: 2.4411022663116455 seconds\n",
      "Time taken for 50 entities: 0.5856246948242188 seconds\n",
      "Time taken for 50 entities: 0.24503397941589355 seconds\n",
      "Time taken for 50 entities: 0.6392669677734375 seconds\n",
      "Time taken for 50 entities: 0.47557544708251953 seconds\n",
      "Time taken for 50 entities: 0.44507551193237305 seconds\n",
      "Time taken for 50 entities: 0.20938897132873535 seconds\n",
      "Time taken for 50 entities: 0.2918665409088135 seconds\n",
      "Time taken for 50 entities: 1.1348628997802734 seconds\n",
      "Time taken for 50 entities: 0.4450984001159668 seconds\n",
      "Time taken for 50 entities: 0.4485647678375244 seconds\n",
      "Time taken for 50 entities: 0.41011571884155273 seconds\n",
      "Time taken for 50 entities: 0.4112706184387207 seconds\n",
      "Time taken for 50 entities: 0.6888446807861328 seconds\n",
      "Time taken for 50 entities: 0.27300286293029785 seconds\n",
      "Time taken for 50 entities: 0.6849062442779541 seconds\n",
      "Time taken for 50 entities: 0.5256443023681641 seconds\n",
      "Time taken for 50 entities: 0.20751380920410156 seconds\n",
      "Time taken for 50 entities: 0.29500675201416016 seconds\n",
      "Time taken for 50 entities: 0.3021962642669678 seconds\n",
      "Time taken for 50 entities: 0.25405359268188477 seconds\n",
      "Time taken for 50 entities: 0.5443470478057861 seconds\n",
      "Time taken for 50 entities: 0.5717628002166748 seconds\n",
      "Time taken for 50 entities: 0.30817437171936035 seconds\n",
      "Time taken for 50 entities: 0.2591874599456787 seconds\n",
      "Time taken for 50 entities: 0.16533732414245605 seconds\n",
      "Time taken for 50 entities: 0.25411534309387207 seconds\n",
      "Time taken for 50 entities: 0.47734594345092773 seconds\n",
      "Time taken for 50 entities: 0.40627169609069824 seconds\n",
      "Time taken for 50 entities: 0.31299924850463867 seconds\n",
      "Time taken for 50 entities: 0.4801771640777588 seconds\n",
      "Time taken for 50 entities: 0.31055641174316406 seconds\n",
      "Time taken for 50 entities: 0.31710219383239746 seconds\n",
      "Time taken for 50 entities: 0.33081579208374023 seconds\n",
      "Time taken for 50 entities: 0.40419912338256836 seconds\n",
      "Time taken for 50 entities: 0.3799936771392822 seconds\n",
      "Time taken for 50 entities: 0.2862250804901123 seconds\n",
      "Time taken for 50 entities: 0.19828271865844727 seconds\n",
      "Time taken for 50 entities: 0.23639845848083496 seconds\n",
      "Time taken for 50 entities: 0.36435627937316895 seconds\n",
      "Time taken for 50 entities: 0.5342748165130615 seconds\n",
      "Time taken for 50 entities: 0.5899927616119385 seconds\n",
      "Time taken for 50 entities: 0.5157568454742432 seconds\n",
      "Time taken for 50 entities: 0.2872629165649414 seconds\n",
      "Time taken for 50 entities: 1.1094937324523926 seconds\n",
      "Time taken for 50 entities: 0.24756097793579102 seconds\n",
      "Time taken for 50 entities: 0.6111681461334229 seconds\n",
      "Time taken for 50 entities: 0.26076459884643555 seconds\n",
      "Time taken for 50 entities: 0.44748377799987793 seconds\n",
      "Time taken for 50 entities: 0.27773427963256836 seconds\n",
      "Time taken for 50 entities: 0.41527485847473145 seconds\n",
      "Time taken for 50 entities: 0.3584747314453125 seconds\n",
      "Time taken for 50 entities: 0.5776677131652832 seconds\n",
      "Time taken for 50 entities: 0.389615535736084 seconds\n",
      "Time taken for 50 entities: 0.31371068954467773 seconds\n",
      "Time taken for 50 entities: 0.2691640853881836 seconds\n",
      "Time taken for 50 entities: 0.2204129695892334 seconds\n",
      "Time taken for 50 entities: 0.3438732624053955 seconds\n",
      "Time taken for 50 entities: 0.3944547176361084 seconds\n",
      "Time taken for 50 entities: 0.20596694946289062 seconds\n",
      "Time taken for 50 entities: 0.23807859420776367 seconds\n",
      "Time taken for 50 entities: 0.2495594024658203 seconds\n",
      "Time taken for 50 entities: 0.3197505474090576 seconds\n",
      "Time taken for 50 entities: 0.45465087890625 seconds\n",
      "Time taken for 50 entities: 0.18597865104675293 seconds\n",
      "Time taken for 50 entities: 0.5630509853363037 seconds\n",
      "Time taken for 50 entities: 0.23439788818359375 seconds\n",
      "Time taken for 50 entities: 0.3167140483856201 seconds\n",
      "Time taken for 50 entities: 0.3238687515258789 seconds\n",
      "Time taken for 50 entities: 0.16500043869018555 seconds\n",
      "Time taken for 50 entities: 0.16869640350341797 seconds\n",
      "Time taken for 50 entities: 0.3320026397705078 seconds\n",
      "Time taken for 50 entities: 0.41173410415649414 seconds\n",
      "Time taken for 50 entities: 0.1763153076171875 seconds\n",
      "Time taken for 50 entities: 0.28627610206604004 seconds\n",
      "Time taken for 50 entities: 0.3679013252258301 seconds\n",
      "Time taken for 50 entities: 0.23987507820129395 seconds\n",
      "Time taken for 50 entities: 0.21675658226013184 seconds\n",
      "Time taken for 50 entities: 0.3582746982574463 seconds\n",
      "Time taken for 50 entities: 0.2303311824798584 seconds\n",
      "Time taken for 50 entities: 0.18130111694335938 seconds\n",
      "Time taken for 50 entities: 0.20801091194152832 seconds\n",
      "Time taken for 50 entities: 0.3163332939147949 seconds\n"
     ]
    }
   ],
   "source": [
    "# Let us take top 2 or 3 for redis db\n",
    "print(\"Entity linking using redis surface forms\")\n",
    "start = time.time()\n",
    "for i,ent_mention in enumerate(mention_entity_dataset['mention'].to_list()):\n",
    "    result = EL_redis_db(ent_mention, redis_forms, redis_redir).index.values\n",
    "    if len(result)==0:\n",
    "        redis_results.append(\"NaN\")\n",
    "    else:\n",
    "        redis_results.append(result[0])\n",
    "    if (i+1)%50==0 and i!=0:\n",
    "        end = time.time()\n",
    "        print(f\"Time taken for 50 entities: {end-start} seconds\")\n",
    "        start = time.time()"
   ]
  },
  {
   "cell_type": "code",
   "execution_count": 21,
   "metadata": {},
   "outputs": [
    {
     "data": {
      "text/plain": [
       "6821"
      ]
     },
     "execution_count": 21,
     "metadata": {},
     "output_type": "execute_result"
    }
   ],
   "source": [
    "len(redis_results)"
   ]
  },
  {
   "cell_type": "code",
   "execution_count": 22,
   "metadata": {},
   "outputs": [],
   "source": [
    "mention_entity_dataset['redis_results'] = redis_results"
   ]
  },
  {
   "cell_type": "code",
   "execution_count": 26,
   "metadata": {},
   "outputs": [],
   "source": [
    "mention_entity_dataset['redis_results'] = mention_entity_dataset['redis_results'].apply(\n",
    "    lambda x: \"http://dbpedia.org/resource/\"+x\n",
    "    )"
   ]
  },
  {
   "cell_type": "code",
   "execution_count": 27,
   "metadata": {},
   "outputs": [],
   "source": [
    "acc = len(mention_entity_dataset[mention_entity_dataset['uri']==mention_entity_dataset['redis_results']])/len(mention_entity_dataset)"
   ]
  },
  {
   "cell_type": "code",
   "execution_count": 28,
   "metadata": {},
   "outputs": [
    {
     "data": {
      "text/plain": [
       "0.6182377950447149"
      ]
     },
     "execution_count": 28,
     "metadata": {},
     "output_type": "execute_result"
    }
   ],
   "source": [
    "# Much higher than lookup\n",
    "acc"
   ]
  },
  {
   "cell_type": "code",
   "execution_count": 43,
   "metadata": {},
   "outputs": [
    {
     "data": {
      "text/plain": [
       "4217.0"
      ]
     },
     "execution_count": 43,
     "metadata": {},
     "output_type": "execute_result"
    }
   ],
   "source": [
    "acc*6821"
   ]
  },
  {
   "attachments": {},
   "cell_type": "markdown",
   "metadata": {},
   "source": [
    "### Some exploration"
   ]
  },
  {
   "cell_type": "code",
   "execution_count": 29,
   "metadata": {},
   "outputs": [],
   "source": [
    "mention_entity_dataset.to_csv(\"./wned_wiki_dataset.csv\")"
   ]
  },
  {
   "cell_type": "code",
   "execution_count": 32,
   "metadata": {},
   "outputs": [
    {
     "data": {
      "text/html": [
       "<div>\n",
       "<style scoped>\n",
       "    .dataframe tbody tr th:only-of-type {\n",
       "        vertical-align: middle;\n",
       "    }\n",
       "\n",
       "    .dataframe tbody tr th {\n",
       "        vertical-align: top;\n",
       "    }\n",
       "\n",
       "    .dataframe thead th {\n",
       "        text-align: right;\n",
       "    }\n",
       "</style>\n",
       "<table border=\"1\" class=\"dataframe\">\n",
       "  <thead>\n",
       "    <tr style=\"text-align: right;\">\n",
       "      <th></th>\n",
       "      <th>uri</th>\n",
       "      <th>redis_results</th>\n",
       "      <th>lookup_results</th>\n",
       "    </tr>\n",
       "  </thead>\n",
       "  <tbody>\n",
       "    <tr>\n",
       "      <th>0</th>\n",
       "      <td>http://dbpedia.org/resource/Tasmanian_Legislat...</td>\n",
       "      <td>http://dbpedia.org/resource/Tasmanian_Legislat...</td>\n",
       "      <td>http://dbpedia.org/resource/Members_of_the_Tas...</td>\n",
       "    </tr>\n",
       "    <tr>\n",
       "      <th>1</th>\n",
       "      <td>http://dbpedia.org/resource/Tasmanian_Legislat...</td>\n",
       "      <td>http://dbpedia.org/resource/Upper_house</td>\n",
       "      <td>http://dbpedia.org/resource/Upper_house</td>\n",
       "    </tr>\n",
       "    <tr>\n",
       "      <th>2</th>\n",
       "      <td>http://dbpedia.org/resource/Electoral_division...</td>\n",
       "      <td>http://dbpedia.org/resource/Murchison_bioregion</td>\n",
       "      <td>http://dbpedia.org/resource/Roderick_Murchison</td>\n",
       "    </tr>\n",
       "    <tr>\n",
       "      <th>3</th>\n",
       "      <td>http://dbpedia.org/resource/Pipers_River,_Tasm...</td>\n",
       "      <td>http://dbpedia.org/resource/Pipers_River</td>\n",
       "      <td>http://dbpedia.org/resource/Pipers_River</td>\n",
       "    </tr>\n",
       "    <tr>\n",
       "      <th>4</th>\n",
       "      <td>http://dbpedia.org/resource/Scottsdale,_Tasmania</td>\n",
       "      <td>http://dbpedia.org/resource/Scottsdale,_Arizona</td>\n",
       "      <td>http://dbpedia.org/resource/Scottsdale,_Arizona</td>\n",
       "    </tr>\n",
       "    <tr>\n",
       "      <th>...</th>\n",
       "      <td>...</td>\n",
       "      <td>...</td>\n",
       "      <td>...</td>\n",
       "    </tr>\n",
       "    <tr>\n",
       "      <th>6816</th>\n",
       "      <td>http://dbpedia.org/resource/Miko</td>\n",
       "      <td>http://dbpedia.org/resource/Miko</td>\n",
       "      <td>['http://dbpedia.org/resource/Kannazuki_no_Miko']</td>\n",
       "    </tr>\n",
       "    <tr>\n",
       "      <th>6817</th>\n",
       "      <td>http://dbpedia.org/resource/Rattan</td>\n",
       "      <td>http://dbpedia.org/resource/Rattan</td>\n",
       "      <td>['http://dbpedia.org/resource/Rattan']</td>\n",
       "    </tr>\n",
       "    <tr>\n",
       "      <th>6818</th>\n",
       "      <td>http://dbpedia.org/resource/Gold_leaf</td>\n",
       "      <td>http://dbpedia.org/resource/Gold_leaf</td>\n",
       "      <td>['http://dbpedia.org/resource/Team_Lotus']</td>\n",
       "    </tr>\n",
       "    <tr>\n",
       "      <th>6819</th>\n",
       "      <td>http://dbpedia.org/resource/Male</td>\n",
       "      <td>http://dbpedia.org/resource/Male</td>\n",
       "      <td>['http://dbpedia.org/resource/Male']</td>\n",
       "    </tr>\n",
       "    <tr>\n",
       "      <th>6820</th>\n",
       "      <td>http://dbpedia.org/resource/Female</td>\n",
       "      <td>http://dbpedia.org/resource/Female</td>\n",
       "      <td>['http://dbpedia.org/resource/Female']</td>\n",
       "    </tr>\n",
       "  </tbody>\n",
       "</table>\n",
       "<p>6821 rows × 3 columns</p>\n",
       "</div>"
      ],
      "text/plain": [
       "                                                    uri   \n",
       "0     http://dbpedia.org/resource/Tasmanian_Legislat...  \\\n",
       "1     http://dbpedia.org/resource/Tasmanian_Legislat...   \n",
       "2     http://dbpedia.org/resource/Electoral_division...   \n",
       "3     http://dbpedia.org/resource/Pipers_River,_Tasm...   \n",
       "4      http://dbpedia.org/resource/Scottsdale,_Tasmania   \n",
       "...                                                 ...   \n",
       "6816                   http://dbpedia.org/resource/Miko   \n",
       "6817                 http://dbpedia.org/resource/Rattan   \n",
       "6818              http://dbpedia.org/resource/Gold_leaf   \n",
       "6819                   http://dbpedia.org/resource/Male   \n",
       "6820                 http://dbpedia.org/resource/Female   \n",
       "\n",
       "                                          redis_results   \n",
       "0     http://dbpedia.org/resource/Tasmanian_Legislat...  \\\n",
       "1               http://dbpedia.org/resource/Upper_house   \n",
       "2       http://dbpedia.org/resource/Murchison_bioregion   \n",
       "3              http://dbpedia.org/resource/Pipers_River   \n",
       "4       http://dbpedia.org/resource/Scottsdale,_Arizona   \n",
       "...                                                 ...   \n",
       "6816                   http://dbpedia.org/resource/Miko   \n",
       "6817                 http://dbpedia.org/resource/Rattan   \n",
       "6818              http://dbpedia.org/resource/Gold_leaf   \n",
       "6819                   http://dbpedia.org/resource/Male   \n",
       "6820                 http://dbpedia.org/resource/Female   \n",
       "\n",
       "                                         lookup_results  \n",
       "0     http://dbpedia.org/resource/Members_of_the_Tas...  \n",
       "1               http://dbpedia.org/resource/Upper_house  \n",
       "2        http://dbpedia.org/resource/Roderick_Murchison  \n",
       "3              http://dbpedia.org/resource/Pipers_River  \n",
       "4       http://dbpedia.org/resource/Scottsdale,_Arizona  \n",
       "...                                                 ...  \n",
       "6816  ['http://dbpedia.org/resource/Kannazuki_no_Miko']  \n",
       "6817             ['http://dbpedia.org/resource/Rattan']  \n",
       "6818         ['http://dbpedia.org/resource/Team_Lotus']  \n",
       "6819               ['http://dbpedia.org/resource/Male']  \n",
       "6820             ['http://dbpedia.org/resource/Female']  \n",
       "\n",
       "[6821 rows x 3 columns]"
      ]
     },
     "execution_count": 32,
     "metadata": {},
     "output_type": "execute_result"
    }
   ],
   "source": [
    "mention_entity_dataset[['uri','redis_results','lookup_results']]"
   ]
  },
  {
   "cell_type": "code",
   "execution_count": 50,
   "metadata": {},
   "outputs": [],
   "source": [
    "mention_entity_dataset['lookup_results'] = mention_entity_dataset['lookup_results'].apply(\n",
    "    lambda x: x.strip(\"[\").strip(\"'\").strip(\"]\") if type(x)==str else x\n",
    ")"
   ]
  },
  {
   "cell_type": "code",
   "execution_count": 52,
   "metadata": {},
   "outputs": [],
   "source": [
    "mention_entity_dataset['lookup_results'] = mention_entity_dataset['lookup_results'].apply(\n",
    "    lambda x: x.strip(\"'\") if type(x)==str else x\n",
    ")"
   ]
  },
  {
   "cell_type": "code",
   "execution_count": 53,
   "metadata": {},
   "outputs": [
    {
     "data": {
      "text/html": [
       "<div>\n",
       "<style scoped>\n",
       "    .dataframe tbody tr th:only-of-type {\n",
       "        vertical-align: middle;\n",
       "    }\n",
       "\n",
       "    .dataframe tbody tr th {\n",
       "        vertical-align: top;\n",
       "    }\n",
       "\n",
       "    .dataframe thead th {\n",
       "        text-align: right;\n",
       "    }\n",
       "</style>\n",
       "<table border=\"1\" class=\"dataframe\">\n",
       "  <thead>\n",
       "    <tr style=\"text-align: right;\">\n",
       "      <th></th>\n",
       "      <th>Unnamed: 0</th>\n",
       "      <th>mention</th>\n",
       "      <th>entity</th>\n",
       "      <th>uri</th>\n",
       "      <th>lookup_results</th>\n",
       "      <th>redis_results</th>\n",
       "    </tr>\n",
       "  </thead>\n",
       "  <tbody>\n",
       "    <tr>\n",
       "      <th>0</th>\n",
       "      <td>0</td>\n",
       "      <td>Tasmanian Legislative Council</td>\n",
       "      <td>Tasmanian Legislative Council</td>\n",
       "      <td>http://dbpedia.org/resource/Tasmanian_Legislat...</td>\n",
       "      <td>http://dbpedia.org/resource/Members_of_the_Tas...</td>\n",
       "      <td>http://dbpedia.org/resource/Tasmanian_Legislat...</td>\n",
       "    </tr>\n",
       "    <tr>\n",
       "      <th>1</th>\n",
       "      <td>1</td>\n",
       "      <td>upper house</td>\n",
       "      <td>Tasmanian Legislative Council</td>\n",
       "      <td>http://dbpedia.org/resource/Tasmanian_Legislat...</td>\n",
       "      <td>http://dbpedia.org/resource/Upper_house</td>\n",
       "      <td>http://dbpedia.org/resource/Upper_house</td>\n",
       "    </tr>\n",
       "    <tr>\n",
       "      <th>2</th>\n",
       "      <td>2</td>\n",
       "      <td>Murchison</td>\n",
       "      <td>Electoral division of Murchison</td>\n",
       "      <td>http://dbpedia.org/resource/Electoral_division...</td>\n",
       "      <td>http://dbpedia.org/resource/Roderick_Murchison</td>\n",
       "      <td>http://dbpedia.org/resource/Murchison_bioregion</td>\n",
       "    </tr>\n",
       "    <tr>\n",
       "      <th>3</th>\n",
       "      <td>3</td>\n",
       "      <td>Pipers River</td>\n",
       "      <td>Pipers River, Tasmania</td>\n",
       "      <td>http://dbpedia.org/resource/Pipers_River,_Tasm...</td>\n",
       "      <td>http://dbpedia.org/resource/Pipers_River</td>\n",
       "      <td>http://dbpedia.org/resource/Pipers_River</td>\n",
       "    </tr>\n",
       "    <tr>\n",
       "      <th>4</th>\n",
       "      <td>4</td>\n",
       "      <td>Scottsdale</td>\n",
       "      <td>Scottsdale, Tasmania</td>\n",
       "      <td>http://dbpedia.org/resource/Scottsdale,_Tasmania</td>\n",
       "      <td>http://dbpedia.org/resource/Scottsdale,_Arizona</td>\n",
       "      <td>http://dbpedia.org/resource/Scottsdale,_Arizona</td>\n",
       "    </tr>\n",
       "    <tr>\n",
       "      <th>...</th>\n",
       "      <td>...</td>\n",
       "      <td>...</td>\n",
       "      <td>...</td>\n",
       "      <td>...</td>\n",
       "      <td>...</td>\n",
       "      <td>...</td>\n",
       "    </tr>\n",
       "    <tr>\n",
       "      <th>6816</th>\n",
       "      <td>6816</td>\n",
       "      <td>Miko</td>\n",
       "      <td>Miko</td>\n",
       "      <td>http://dbpedia.org/resource/Miko</td>\n",
       "      <td>http://dbpedia.org/resource/Kannazuki_no_Miko</td>\n",
       "      <td>http://dbpedia.org/resource/Miko</td>\n",
       "    </tr>\n",
       "    <tr>\n",
       "      <th>6817</th>\n",
       "      <td>6817</td>\n",
       "      <td>Rattan</td>\n",
       "      <td>Rattan</td>\n",
       "      <td>http://dbpedia.org/resource/Rattan</td>\n",
       "      <td>http://dbpedia.org/resource/Rattan</td>\n",
       "      <td>http://dbpedia.org/resource/Rattan</td>\n",
       "    </tr>\n",
       "    <tr>\n",
       "      <th>6818</th>\n",
       "      <td>6818</td>\n",
       "      <td>Gold leaf</td>\n",
       "      <td>Gold leaf</td>\n",
       "      <td>http://dbpedia.org/resource/Gold_leaf</td>\n",
       "      <td>http://dbpedia.org/resource/Team_Lotus</td>\n",
       "      <td>http://dbpedia.org/resource/Gold_leaf</td>\n",
       "    </tr>\n",
       "    <tr>\n",
       "      <th>6819</th>\n",
       "      <td>6819</td>\n",
       "      <td>male</td>\n",
       "      <td>Male</td>\n",
       "      <td>http://dbpedia.org/resource/Male</td>\n",
       "      <td>http://dbpedia.org/resource/Male</td>\n",
       "      <td>http://dbpedia.org/resource/Male</td>\n",
       "    </tr>\n",
       "    <tr>\n",
       "      <th>6820</th>\n",
       "      <td>6820</td>\n",
       "      <td>female</td>\n",
       "      <td>Female</td>\n",
       "      <td>http://dbpedia.org/resource/Female</td>\n",
       "      <td>http://dbpedia.org/resource/Female</td>\n",
       "      <td>http://dbpedia.org/resource/Female</td>\n",
       "    </tr>\n",
       "  </tbody>\n",
       "</table>\n",
       "<p>6821 rows × 6 columns</p>\n",
       "</div>"
      ],
      "text/plain": [
       "      Unnamed: 0                        mention   \n",
       "0              0  Tasmanian Legislative Council  \\\n",
       "1              1                    upper house   \n",
       "2              2                      Murchison   \n",
       "3              3                   Pipers River   \n",
       "4              4                     Scottsdale   \n",
       "...          ...                            ...   \n",
       "6816        6816                           Miko   \n",
       "6817        6817                         Rattan   \n",
       "6818        6818                      Gold leaf   \n",
       "6819        6819                           male   \n",
       "6820        6820                         female   \n",
       "\n",
       "                               entity   \n",
       "0       Tasmanian Legislative Council  \\\n",
       "1       Tasmanian Legislative Council   \n",
       "2     Electoral division of Murchison   \n",
       "3              Pipers River, Tasmania   \n",
       "4                Scottsdale, Tasmania   \n",
       "...                               ...   \n",
       "6816                             Miko   \n",
       "6817                           Rattan   \n",
       "6818                        Gold leaf   \n",
       "6819                             Male   \n",
       "6820                           Female   \n",
       "\n",
       "                                                    uri   \n",
       "0     http://dbpedia.org/resource/Tasmanian_Legislat...  \\\n",
       "1     http://dbpedia.org/resource/Tasmanian_Legislat...   \n",
       "2     http://dbpedia.org/resource/Electoral_division...   \n",
       "3     http://dbpedia.org/resource/Pipers_River,_Tasm...   \n",
       "4      http://dbpedia.org/resource/Scottsdale,_Tasmania   \n",
       "...                                                 ...   \n",
       "6816                   http://dbpedia.org/resource/Miko   \n",
       "6817                 http://dbpedia.org/resource/Rattan   \n",
       "6818              http://dbpedia.org/resource/Gold_leaf   \n",
       "6819                   http://dbpedia.org/resource/Male   \n",
       "6820                 http://dbpedia.org/resource/Female   \n",
       "\n",
       "                                         lookup_results   \n",
       "0     http://dbpedia.org/resource/Members_of_the_Tas...  \\\n",
       "1               http://dbpedia.org/resource/Upper_house   \n",
       "2        http://dbpedia.org/resource/Roderick_Murchison   \n",
       "3              http://dbpedia.org/resource/Pipers_River   \n",
       "4       http://dbpedia.org/resource/Scottsdale,_Arizona   \n",
       "...                                                 ...   \n",
       "6816      http://dbpedia.org/resource/Kannazuki_no_Miko   \n",
       "6817                 http://dbpedia.org/resource/Rattan   \n",
       "6818             http://dbpedia.org/resource/Team_Lotus   \n",
       "6819                   http://dbpedia.org/resource/Male   \n",
       "6820                 http://dbpedia.org/resource/Female   \n",
       "\n",
       "                                          redis_results  \n",
       "0     http://dbpedia.org/resource/Tasmanian_Legislat...  \n",
       "1               http://dbpedia.org/resource/Upper_house  \n",
       "2       http://dbpedia.org/resource/Murchison_bioregion  \n",
       "3              http://dbpedia.org/resource/Pipers_River  \n",
       "4       http://dbpedia.org/resource/Scottsdale,_Arizona  \n",
       "...                                                 ...  \n",
       "6816                   http://dbpedia.org/resource/Miko  \n",
       "6817                 http://dbpedia.org/resource/Rattan  \n",
       "6818              http://dbpedia.org/resource/Gold_leaf  \n",
       "6819                   http://dbpedia.org/resource/Male  \n",
       "6820                 http://dbpedia.org/resource/Female  \n",
       "\n",
       "[6821 rows x 6 columns]"
      ]
     },
     "execution_count": 53,
     "metadata": {},
     "output_type": "execute_result"
    }
   ],
   "source": [
    "mention_entity_dataset"
   ]
  },
  {
   "attachments": {},
   "cell_type": "markdown",
   "metadata": {},
   "source": [
    "Corrected"
   ]
  },
  {
   "cell_type": "code",
   "execution_count": 54,
   "metadata": {},
   "outputs": [],
   "source": [
    "mention_entity_dataset.to_csv(\"./wned_wiki_dataset.csv\")"
   ]
  },
  {
   "cell_type": "code",
   "execution_count": 55,
   "metadata": {},
   "outputs": [
    {
     "name": "stderr",
     "output_type": "stream",
     "text": [
      "/tmp/ipykernel_3257/2004998023.py:2: SettingWithCopyWarning: \n",
      "A value is trying to be set on a copy of a slice from a DataFrame.\n",
      "Try using .loc[row_indexer,col_indexer] = value instead\n",
      "\n",
      "See the caveats in the documentation: https://pandas.pydata.org/pandas-docs/stable/user_guide/indexing.html#returning-a-view-versus-a-copy\n",
      "  comparison['uri'] = comparison['uri'].apply(lambda x: x[28:])\n",
      "/tmp/ipykernel_3257/2004998023.py:3: SettingWithCopyWarning: \n",
      "A value is trying to be set on a copy of a slice from a DataFrame.\n",
      "Try using .loc[row_indexer,col_indexer] = value instead\n",
      "\n",
      "See the caveats in the documentation: https://pandas.pydata.org/pandas-docs/stable/user_guide/indexing.html#returning-a-view-versus-a-copy\n",
      "  comparison['redis_results'] = comparison['redis_results'].apply(lambda x:x[28:])\n",
      "/tmp/ipykernel_3257/2004998023.py:4: SettingWithCopyWarning: \n",
      "A value is trying to be set on a copy of a slice from a DataFrame.\n",
      "Try using .loc[row_indexer,col_indexer] = value instead\n",
      "\n",
      "See the caveats in the documentation: https://pandas.pydata.org/pandas-docs/stable/user_guide/indexing.html#returning-a-view-versus-a-copy\n",
      "  comparison['lookup_results'] = comparison['lookup_results'].apply(\n"
     ]
    }
   ],
   "source": [
    "comparison = mention_entity_dataset[['uri','redis_results','lookup_results']]\n",
    "comparison['uri'] = comparison['uri'].apply(lambda x: x[28:])\n",
    "comparison['redis_results'] = comparison['redis_results'].apply(lambda x:x[28:])\n",
    "comparison['lookup_results'] = comparison['lookup_results'].apply(\n",
    "    lambda x: x[28:] if type(x)==str else x\n",
    "    )"
   ]
  },
  {
   "cell_type": "code",
   "execution_count": 56,
   "metadata": {},
   "outputs": [
    {
     "data": {
      "text/html": [
       "<div>\n",
       "<style scoped>\n",
       "    .dataframe tbody tr th:only-of-type {\n",
       "        vertical-align: middle;\n",
       "    }\n",
       "\n",
       "    .dataframe tbody tr th {\n",
       "        vertical-align: top;\n",
       "    }\n",
       "\n",
       "    .dataframe thead th {\n",
       "        text-align: right;\n",
       "    }\n",
       "</style>\n",
       "<table border=\"1\" class=\"dataframe\">\n",
       "  <thead>\n",
       "    <tr style=\"text-align: right;\">\n",
       "      <th></th>\n",
       "      <th>uri</th>\n",
       "      <th>redis_results</th>\n",
       "      <th>lookup_results</th>\n",
       "    </tr>\n",
       "  </thead>\n",
       "  <tbody>\n",
       "    <tr>\n",
       "      <th>0</th>\n",
       "      <td>Tasmanian_Legislative_Council</td>\n",
       "      <td>Tasmanian_Legislative_Council</td>\n",
       "      <td>Members_of_the_Tasmanian_Legislative_Council,_...</td>\n",
       "    </tr>\n",
       "    <tr>\n",
       "      <th>1</th>\n",
       "      <td>Tasmanian_Legislative_Council</td>\n",
       "      <td>Upper_house</td>\n",
       "      <td>Upper_house</td>\n",
       "    </tr>\n",
       "    <tr>\n",
       "      <th>2</th>\n",
       "      <td>Electoral_division_of_Murchison</td>\n",
       "      <td>Murchison_bioregion</td>\n",
       "      <td>Roderick_Murchison</td>\n",
       "    </tr>\n",
       "    <tr>\n",
       "      <th>3</th>\n",
       "      <td>Pipers_River,_Tasmania</td>\n",
       "      <td>Pipers_River</td>\n",
       "      <td>Pipers_River</td>\n",
       "    </tr>\n",
       "    <tr>\n",
       "      <th>4</th>\n",
       "      <td>Scottsdale,_Tasmania</td>\n",
       "      <td>Scottsdale,_Arizona</td>\n",
       "      <td>Scottsdale,_Arizona</td>\n",
       "    </tr>\n",
       "    <tr>\n",
       "      <th>...</th>\n",
       "      <td>...</td>\n",
       "      <td>...</td>\n",
       "      <td>...</td>\n",
       "    </tr>\n",
       "    <tr>\n",
       "      <th>6816</th>\n",
       "      <td>Miko</td>\n",
       "      <td>Miko</td>\n",
       "      <td>Kannazuki_no_Miko</td>\n",
       "    </tr>\n",
       "    <tr>\n",
       "      <th>6817</th>\n",
       "      <td>Rattan</td>\n",
       "      <td>Rattan</td>\n",
       "      <td>Rattan</td>\n",
       "    </tr>\n",
       "    <tr>\n",
       "      <th>6818</th>\n",
       "      <td>Gold_leaf</td>\n",
       "      <td>Gold_leaf</td>\n",
       "      <td>Team_Lotus</td>\n",
       "    </tr>\n",
       "    <tr>\n",
       "      <th>6819</th>\n",
       "      <td>Male</td>\n",
       "      <td>Male</td>\n",
       "      <td>Male</td>\n",
       "    </tr>\n",
       "    <tr>\n",
       "      <th>6820</th>\n",
       "      <td>Female</td>\n",
       "      <td>Female</td>\n",
       "      <td>Female</td>\n",
       "    </tr>\n",
       "  </tbody>\n",
       "</table>\n",
       "<p>6821 rows × 3 columns</p>\n",
       "</div>"
      ],
      "text/plain": [
       "                                  uri                  redis_results   \n",
       "0       Tasmanian_Legislative_Council  Tasmanian_Legislative_Council  \\\n",
       "1       Tasmanian_Legislative_Council                    Upper_house   \n",
       "2     Electoral_division_of_Murchison            Murchison_bioregion   \n",
       "3              Pipers_River,_Tasmania                   Pipers_River   \n",
       "4                Scottsdale,_Tasmania            Scottsdale,_Arizona   \n",
       "...                               ...                            ...   \n",
       "6816                             Miko                           Miko   \n",
       "6817                           Rattan                         Rattan   \n",
       "6818                        Gold_leaf                      Gold_leaf   \n",
       "6819                             Male                           Male   \n",
       "6820                           Female                         Female   \n",
       "\n",
       "                                         lookup_results  \n",
       "0     Members_of_the_Tasmanian_Legislative_Council,_...  \n",
       "1                                           Upper_house  \n",
       "2                                    Roderick_Murchison  \n",
       "3                                          Pipers_River  \n",
       "4                                   Scottsdale,_Arizona  \n",
       "...                                                 ...  \n",
       "6816                                  Kannazuki_no_Miko  \n",
       "6817                                             Rattan  \n",
       "6818                                         Team_Lotus  \n",
       "6819                                               Male  \n",
       "6820                                             Female  \n",
       "\n",
       "[6821 rows x 3 columns]"
      ]
     },
     "execution_count": 56,
     "metadata": {},
     "output_type": "execute_result"
    }
   ],
   "source": [
    "comparison"
   ]
  },
  {
   "cell_type": "code",
   "execution_count": 57,
   "metadata": {},
   "outputs": [],
   "source": [
    "lookup_acc = len(comparison[comparison['uri']==comparison['lookup_results']])/len(comparison)\n",
    "redis_acc = len(comparison[comparison['uri']==comparison['redis_results']])/len(comparison)"
   ]
  },
  {
   "cell_type": "code",
   "execution_count": 58,
   "metadata": {},
   "outputs": [
    {
     "data": {
      "text/plain": [
       "(0.4392317841958657, 0.6182377950447149)"
      ]
     },
     "execution_count": 58,
     "metadata": {},
     "output_type": "execute_result"
    }
   ],
   "source": [
    "lookup_acc, redis_acc"
   ]
  },
  {
   "cell_type": "code",
   "execution_count": 61,
   "metadata": {},
   "outputs": [],
   "source": [
    "redis_correct = comparison[comparison['uri']==comparison['redis_results']]\n",
    "lookup_correct = comparison[comparison['uri']==comparison['lookup_results']]"
   ]
  },
  {
   "cell_type": "code",
   "execution_count": 64,
   "metadata": {},
   "outputs": [],
   "source": [
    "both_redis_lookup_correct = comparison[\n",
    "    (comparison['uri']==comparison['redis_results']) & (comparison['uri']==comparison['lookup_results'])\n",
    "     ]"
   ]
  },
  {
   "cell_type": "code",
   "execution_count": 59,
   "metadata": {},
   "outputs": [],
   "source": [
    "redis_correct_lookup_not = comparison[(comparison['uri']==comparison['redis_results']) & (comparison['uri']!=comparison['lookup_results'])]"
   ]
  },
  {
   "cell_type": "code",
   "execution_count": 66,
   "metadata": {},
   "outputs": [],
   "source": [
    "lookup_correct_redis_not = comparison[(comparison['uri']!=comparison['redis_results']) & (comparison['uri']==comparison['lookup_results'])]"
   ]
  },
  {
   "cell_type": "code",
   "execution_count": 69,
   "metadata": {},
   "outputs": [
    {
     "data": {
      "text/plain": [
       "(0.2058349215657528, 0.02682891071690368)"
      ]
     },
     "execution_count": 69,
     "metadata": {},
     "output_type": "execute_result"
    }
   ],
   "source": [
    "len(redis_correct_lookup_not)/6821, len(lookup_correct_redis_not)/6821"
   ]
  },
  {
   "cell_type": "code",
   "execution_count": 71,
   "metadata": {},
   "outputs": [
    {
     "data": {
      "text/plain": [
       "(0.6182377950447149, 0.4392317841958657, 0.41240287347896204)"
      ]
     },
     "execution_count": 71,
     "metadata": {},
     "output_type": "execute_result"
    }
   ],
   "source": [
    "len(redis_correct)/6821, len(lookup_correct)/6821, len(both_redis_lookup_correct)/6821"
   ]
  },
  {
   "cell_type": "code",
   "execution_count": 70,
   "metadata": {},
   "outputs": [
    {
     "data": {
      "text/plain": [
       "6821"
      ]
     },
     "execution_count": 70,
     "metadata": {},
     "output_type": "execute_result"
    }
   ],
   "source": [
    "len(comparison)"
   ]
  },
  {
   "cell_type": "code",
   "execution_count": 72,
   "metadata": {},
   "outputs": [],
   "source": [
    "mention_entity_dataset_check = pd.read_csv(\"./wned_wiki_dataset.csv\")"
   ]
  },
  {
   "cell_type": "code",
   "execution_count": 73,
   "metadata": {},
   "outputs": [
    {
     "data": {
      "text/html": [
       "<div>\n",
       "<style scoped>\n",
       "    .dataframe tbody tr th:only-of-type {\n",
       "        vertical-align: middle;\n",
       "    }\n",
       "\n",
       "    .dataframe tbody tr th {\n",
       "        vertical-align: top;\n",
       "    }\n",
       "\n",
       "    .dataframe thead th {\n",
       "        text-align: right;\n",
       "    }\n",
       "</style>\n",
       "<table border=\"1\" class=\"dataframe\">\n",
       "  <thead>\n",
       "    <tr style=\"text-align: right;\">\n",
       "      <th></th>\n",
       "      <th>Unnamed: 0.1</th>\n",
       "      <th>Unnamed: 0</th>\n",
       "      <th>mention</th>\n",
       "      <th>entity</th>\n",
       "      <th>uri</th>\n",
       "      <th>lookup_results</th>\n",
       "      <th>redis_results</th>\n",
       "    </tr>\n",
       "  </thead>\n",
       "  <tbody>\n",
       "    <tr>\n",
       "      <th>0</th>\n",
       "      <td>0</td>\n",
       "      <td>0</td>\n",
       "      <td>Tasmanian Legislative Council</td>\n",
       "      <td>Tasmanian Legislative Council</td>\n",
       "      <td>http://dbpedia.org/resource/Tasmanian_Legislat...</td>\n",
       "      <td>http://dbpedia.org/resource/Members_of_the_Tas...</td>\n",
       "      <td>http://dbpedia.org/resource/Tasmanian_Legislat...</td>\n",
       "    </tr>\n",
       "    <tr>\n",
       "      <th>1</th>\n",
       "      <td>1</td>\n",
       "      <td>1</td>\n",
       "      <td>upper house</td>\n",
       "      <td>Tasmanian Legislative Council</td>\n",
       "      <td>http://dbpedia.org/resource/Tasmanian_Legislat...</td>\n",
       "      <td>http://dbpedia.org/resource/Upper_house</td>\n",
       "      <td>http://dbpedia.org/resource/Upper_house</td>\n",
       "    </tr>\n",
       "    <tr>\n",
       "      <th>2</th>\n",
       "      <td>2</td>\n",
       "      <td>2</td>\n",
       "      <td>Murchison</td>\n",
       "      <td>Electoral division of Murchison</td>\n",
       "      <td>http://dbpedia.org/resource/Electoral_division...</td>\n",
       "      <td>http://dbpedia.org/resource/Roderick_Murchison</td>\n",
       "      <td>http://dbpedia.org/resource/Murchison_bioregion</td>\n",
       "    </tr>\n",
       "    <tr>\n",
       "      <th>3</th>\n",
       "      <td>3</td>\n",
       "      <td>3</td>\n",
       "      <td>Pipers River</td>\n",
       "      <td>Pipers River, Tasmania</td>\n",
       "      <td>http://dbpedia.org/resource/Pipers_River,_Tasm...</td>\n",
       "      <td>http://dbpedia.org/resource/Pipers_River</td>\n",
       "      <td>http://dbpedia.org/resource/Pipers_River</td>\n",
       "    </tr>\n",
       "    <tr>\n",
       "      <th>4</th>\n",
       "      <td>4</td>\n",
       "      <td>4</td>\n",
       "      <td>Scottsdale</td>\n",
       "      <td>Scottsdale, Tasmania</td>\n",
       "      <td>http://dbpedia.org/resource/Scottsdale,_Tasmania</td>\n",
       "      <td>http://dbpedia.org/resource/Scottsdale,_Arizona</td>\n",
       "      <td>http://dbpedia.org/resource/Scottsdale,_Arizona</td>\n",
       "    </tr>\n",
       "    <tr>\n",
       "      <th>...</th>\n",
       "      <td>...</td>\n",
       "      <td>...</td>\n",
       "      <td>...</td>\n",
       "      <td>...</td>\n",
       "      <td>...</td>\n",
       "      <td>...</td>\n",
       "      <td>...</td>\n",
       "    </tr>\n",
       "    <tr>\n",
       "      <th>6816</th>\n",
       "      <td>6816</td>\n",
       "      <td>6816</td>\n",
       "      <td>Miko</td>\n",
       "      <td>Miko</td>\n",
       "      <td>http://dbpedia.org/resource/Miko</td>\n",
       "      <td>http://dbpedia.org/resource/Kannazuki_no_Miko</td>\n",
       "      <td>http://dbpedia.org/resource/Miko</td>\n",
       "    </tr>\n",
       "    <tr>\n",
       "      <th>6817</th>\n",
       "      <td>6817</td>\n",
       "      <td>6817</td>\n",
       "      <td>Rattan</td>\n",
       "      <td>Rattan</td>\n",
       "      <td>http://dbpedia.org/resource/Rattan</td>\n",
       "      <td>http://dbpedia.org/resource/Rattan</td>\n",
       "      <td>http://dbpedia.org/resource/Rattan</td>\n",
       "    </tr>\n",
       "    <tr>\n",
       "      <th>6818</th>\n",
       "      <td>6818</td>\n",
       "      <td>6818</td>\n",
       "      <td>Gold leaf</td>\n",
       "      <td>Gold leaf</td>\n",
       "      <td>http://dbpedia.org/resource/Gold_leaf</td>\n",
       "      <td>http://dbpedia.org/resource/Team_Lotus</td>\n",
       "      <td>http://dbpedia.org/resource/Gold_leaf</td>\n",
       "    </tr>\n",
       "    <tr>\n",
       "      <th>6819</th>\n",
       "      <td>6819</td>\n",
       "      <td>6819</td>\n",
       "      <td>male</td>\n",
       "      <td>Male</td>\n",
       "      <td>http://dbpedia.org/resource/Male</td>\n",
       "      <td>http://dbpedia.org/resource/Male</td>\n",
       "      <td>http://dbpedia.org/resource/Male</td>\n",
       "    </tr>\n",
       "    <tr>\n",
       "      <th>6820</th>\n",
       "      <td>6820</td>\n",
       "      <td>6820</td>\n",
       "      <td>female</td>\n",
       "      <td>Female</td>\n",
       "      <td>http://dbpedia.org/resource/Female</td>\n",
       "      <td>http://dbpedia.org/resource/Female</td>\n",
       "      <td>http://dbpedia.org/resource/Female</td>\n",
       "    </tr>\n",
       "  </tbody>\n",
       "</table>\n",
       "<p>6821 rows × 7 columns</p>\n",
       "</div>"
      ],
      "text/plain": [
       "      Unnamed: 0.1  Unnamed: 0                        mention   \n",
       "0                0           0  Tasmanian Legislative Council  \\\n",
       "1                1           1                    upper house   \n",
       "2                2           2                      Murchison   \n",
       "3                3           3                   Pipers River   \n",
       "4                4           4                     Scottsdale   \n",
       "...            ...         ...                            ...   \n",
       "6816          6816        6816                           Miko   \n",
       "6817          6817        6817                         Rattan   \n",
       "6818          6818        6818                      Gold leaf   \n",
       "6819          6819        6819                           male   \n",
       "6820          6820        6820                         female   \n",
       "\n",
       "                               entity   \n",
       "0       Tasmanian Legislative Council  \\\n",
       "1       Tasmanian Legislative Council   \n",
       "2     Electoral division of Murchison   \n",
       "3              Pipers River, Tasmania   \n",
       "4                Scottsdale, Tasmania   \n",
       "...                               ...   \n",
       "6816                             Miko   \n",
       "6817                           Rattan   \n",
       "6818                        Gold leaf   \n",
       "6819                             Male   \n",
       "6820                           Female   \n",
       "\n",
       "                                                    uri   \n",
       "0     http://dbpedia.org/resource/Tasmanian_Legislat...  \\\n",
       "1     http://dbpedia.org/resource/Tasmanian_Legislat...   \n",
       "2     http://dbpedia.org/resource/Electoral_division...   \n",
       "3     http://dbpedia.org/resource/Pipers_River,_Tasm...   \n",
       "4      http://dbpedia.org/resource/Scottsdale,_Tasmania   \n",
       "...                                                 ...   \n",
       "6816                   http://dbpedia.org/resource/Miko   \n",
       "6817                 http://dbpedia.org/resource/Rattan   \n",
       "6818              http://dbpedia.org/resource/Gold_leaf   \n",
       "6819                   http://dbpedia.org/resource/Male   \n",
       "6820                 http://dbpedia.org/resource/Female   \n",
       "\n",
       "                                         lookup_results   \n",
       "0     http://dbpedia.org/resource/Members_of_the_Tas...  \\\n",
       "1               http://dbpedia.org/resource/Upper_house   \n",
       "2        http://dbpedia.org/resource/Roderick_Murchison   \n",
       "3              http://dbpedia.org/resource/Pipers_River   \n",
       "4       http://dbpedia.org/resource/Scottsdale,_Arizona   \n",
       "...                                                 ...   \n",
       "6816      http://dbpedia.org/resource/Kannazuki_no_Miko   \n",
       "6817                 http://dbpedia.org/resource/Rattan   \n",
       "6818             http://dbpedia.org/resource/Team_Lotus   \n",
       "6819                   http://dbpedia.org/resource/Male   \n",
       "6820                 http://dbpedia.org/resource/Female   \n",
       "\n",
       "                                          redis_results  \n",
       "0     http://dbpedia.org/resource/Tasmanian_Legislat...  \n",
       "1               http://dbpedia.org/resource/Upper_house  \n",
       "2       http://dbpedia.org/resource/Murchison_bioregion  \n",
       "3              http://dbpedia.org/resource/Pipers_River  \n",
       "4       http://dbpedia.org/resource/Scottsdale,_Arizona  \n",
       "...                                                 ...  \n",
       "6816                   http://dbpedia.org/resource/Miko  \n",
       "6817                 http://dbpedia.org/resource/Rattan  \n",
       "6818              http://dbpedia.org/resource/Gold_leaf  \n",
       "6819                   http://dbpedia.org/resource/Male  \n",
       "6820                 http://dbpedia.org/resource/Female  \n",
       "\n",
       "[6821 rows x 7 columns]"
      ]
     },
     "execution_count": 73,
     "metadata": {},
     "output_type": "execute_result"
    }
   ],
   "source": [
    "mention_entity_dataset_check"
   ]
  },
  {
   "attachments": {},
   "cell_type": "markdown",
   "metadata": {},
   "source": [
    "### Evaluating GENRE on WNED"
   ]
  },
  {
   "cell_type": "code",
   "execution_count": 2,
   "metadata": {},
   "outputs": [],
   "source": [
    "import pandas as pd\n",
    "genre_predictions_2600 = pd.read_csv(\"./result_df_2600.csv\")"
   ]
  },
  {
   "cell_type": "code",
   "execution_count": 4,
   "metadata": {},
   "outputs": [],
   "source": [
    "genre_predictions_1300_5521 = pd.read_csv(\"./result_df_batch_27_onwards5521.csv\")"
   ]
  },
  {
   "cell_type": "code",
   "execution_count": 7,
   "metadata": {},
   "outputs": [
    {
     "data": {
      "text/html": [
       "<div>\n",
       "<style scoped>\n",
       "    .dataframe tbody tr th:only-of-type {\n",
       "        vertical-align: middle;\n",
       "    }\n",
       "\n",
       "    .dataframe tbody tr th {\n",
       "        vertical-align: top;\n",
       "    }\n",
       "\n",
       "    .dataframe thead th {\n",
       "        text-align: right;\n",
       "    }\n",
       "</style>\n",
       "<table border=\"1\" class=\"dataframe\">\n",
       "  <thead>\n",
       "    <tr style=\"text-align: right;\">\n",
       "      <th></th>\n",
       "      <th>Unnamed: 0</th>\n",
       "      <th>prediction</th>\n",
       "    </tr>\n",
       "  </thead>\n",
       "  <tbody>\n",
       "    <tr>\n",
       "      <th>1300</th>\n",
       "      <td>0</td>\n",
       "      <td>Drainage basin</td>\n",
       "    </tr>\n",
       "    <tr>\n",
       "      <th>1301</th>\n",
       "      <td>1</td>\n",
       "      <td>Mississippi River</td>\n",
       "    </tr>\n",
       "    <tr>\n",
       "      <th>1302</th>\n",
       "      <td>2</td>\n",
       "      <td>Allegheny Plateau</td>\n",
       "    </tr>\n",
       "    <tr>\n",
       "      <th>1303</th>\n",
       "      <td>3</td>\n",
       "      <td>Belmont County, Ohio</td>\n",
       "    </tr>\n",
       "    <tr>\n",
       "      <th>1304</th>\n",
       "      <td>4</td>\n",
       "      <td>Harrison County, Ohio</td>\n",
       "    </tr>\n",
       "    <tr>\n",
       "      <th>...</th>\n",
       "      <td>...</td>\n",
       "      <td>...</td>\n",
       "    </tr>\n",
       "    <tr>\n",
       "      <th>2595</th>\n",
       "      <td>95</td>\n",
       "      <td>Princes Highway</td>\n",
       "    </tr>\n",
       "    <tr>\n",
       "      <th>2596</th>\n",
       "      <td>96</td>\n",
       "      <td>Dual carriageway</td>\n",
       "    </tr>\n",
       "    <tr>\n",
       "      <th>2597</th>\n",
       "      <td>97</td>\n",
       "      <td>Bass Highway, Western Australia</td>\n",
       "    </tr>\n",
       "    <tr>\n",
       "      <th>2598</th>\n",
       "      <td>98</td>\n",
       "      <td>Cranbourne, Victoria</td>\n",
       "    </tr>\n",
       "    <tr>\n",
       "      <th>2599</th>\n",
       "      <td>99</td>\n",
       "      <td>Tooradin</td>\n",
       "    </tr>\n",
       "  </tbody>\n",
       "</table>\n",
       "<p>1300 rows × 2 columns</p>\n",
       "</div>"
      ],
      "text/plain": [
       "      Unnamed: 0                       prediction\n",
       "1300           0                   Drainage basin\n",
       "1301           1                Mississippi River\n",
       "1302           2                Allegheny Plateau\n",
       "1303           3             Belmont County, Ohio\n",
       "1304           4            Harrison County, Ohio\n",
       "...          ...                              ...\n",
       "2595          95                  Princes Highway\n",
       "2596          96                 Dual carriageway\n",
       "2597          97  Bass Highway, Western Australia\n",
       "2598          98             Cranbourne, Victoria\n",
       "2599          99                         Tooradin\n",
       "\n",
       "[1300 rows x 2 columns]"
      ]
     },
     "execution_count": 7,
     "metadata": {},
     "output_type": "execute_result"
    }
   ],
   "source": [
    "genre_predictions_2600[1300:]"
   ]
  },
  {
   "cell_type": "code",
   "execution_count": 6,
   "metadata": {},
   "outputs": [
    {
     "data": {
      "text/html": [
       "<div>\n",
       "<style scoped>\n",
       "    .dataframe tbody tr th:only-of-type {\n",
       "        vertical-align: middle;\n",
       "    }\n",
       "\n",
       "    .dataframe tbody tr th {\n",
       "        vertical-align: top;\n",
       "    }\n",
       "\n",
       "    .dataframe thead th {\n",
       "        text-align: right;\n",
       "    }\n",
       "</style>\n",
       "<table border=\"1\" class=\"dataframe\">\n",
       "  <thead>\n",
       "    <tr style=\"text-align: right;\">\n",
       "      <th></th>\n",
       "      <th>Unnamed: 0</th>\n",
       "      <th>prediction</th>\n",
       "    </tr>\n",
       "  </thead>\n",
       "  <tbody>\n",
       "    <tr>\n",
       "      <th>0</th>\n",
       "      <td>0</td>\n",
       "      <td>Drainage basin</td>\n",
       "    </tr>\n",
       "    <tr>\n",
       "      <th>1</th>\n",
       "      <td>1</td>\n",
       "      <td>Mississippi River</td>\n",
       "    </tr>\n",
       "    <tr>\n",
       "      <th>2</th>\n",
       "      <td>2</td>\n",
       "      <td>Allegheny Plateau</td>\n",
       "    </tr>\n",
       "    <tr>\n",
       "      <th>3</th>\n",
       "      <td>3</td>\n",
       "      <td>Belmont County, Ohio</td>\n",
       "    </tr>\n",
       "    <tr>\n",
       "      <th>4</th>\n",
       "      <td>4</td>\n",
       "      <td>Harrison County, Ohio</td>\n",
       "    </tr>\n",
       "    <tr>\n",
       "      <th>...</th>\n",
       "      <td>...</td>\n",
       "      <td>...</td>\n",
       "    </tr>\n",
       "    <tr>\n",
       "      <th>5516</th>\n",
       "      <td>16</td>\n",
       "      <td>Miko</td>\n",
       "    </tr>\n",
       "    <tr>\n",
       "      <th>5517</th>\n",
       "      <td>17</td>\n",
       "      <td>Rattan</td>\n",
       "    </tr>\n",
       "    <tr>\n",
       "      <th>5518</th>\n",
       "      <td>18</td>\n",
       "      <td>Gold leaf</td>\n",
       "    </tr>\n",
       "    <tr>\n",
       "      <th>5519</th>\n",
       "      <td>19</td>\n",
       "      <td>Male</td>\n",
       "    </tr>\n",
       "    <tr>\n",
       "      <th>5520</th>\n",
       "      <td>20</td>\n",
       "      <td>Female</td>\n",
       "    </tr>\n",
       "  </tbody>\n",
       "</table>\n",
       "<p>5521 rows × 2 columns</p>\n",
       "</div>"
      ],
      "text/plain": [
       "      Unnamed: 0             prediction\n",
       "0              0         Drainage basin\n",
       "1              1      Mississippi River\n",
       "2              2      Allegheny Plateau\n",
       "3              3   Belmont County, Ohio\n",
       "4              4  Harrison County, Ohio\n",
       "...          ...                    ...\n",
       "5516          16                   Miko\n",
       "5517          17                 Rattan\n",
       "5518          18              Gold leaf\n",
       "5519          19                   Male\n",
       "5520          20                 Female\n",
       "\n",
       "[5521 rows x 2 columns]"
      ]
     },
     "execution_count": 6,
     "metadata": {},
     "output_type": "execute_result"
    }
   ],
   "source": [
    "genre_predictions_1300_5521"
   ]
  },
  {
   "cell_type": "code",
   "execution_count": 17,
   "metadata": {},
   "outputs": [
    {
     "data": {
      "text/plain": [
       "(5521, 2600)"
      ]
     },
     "execution_count": 17,
     "metadata": {},
     "output_type": "execute_result"
    }
   ],
   "source": [
    "len(genre_predictions_1300_5521), len(genre_predictions_2600)"
   ]
  },
  {
   "cell_type": "code",
   "execution_count": 18,
   "metadata": {},
   "outputs": [
    {
     "data": {
      "text/plain": [
       "4221"
      ]
     },
     "execution_count": 18,
     "metadata": {},
     "output_type": "execute_result"
    }
   ],
   "source": [
    "6821-2600"
   ]
  },
  {
   "cell_type": "code",
   "execution_count": 19,
   "metadata": {},
   "outputs": [
    {
     "data": {
      "text/plain": [
       "1300"
      ]
     },
     "execution_count": 19,
     "metadata": {},
     "output_type": "execute_result"
    }
   ],
   "source": [
    "5521-4221"
   ]
  },
  {
   "attachments": {},
   "cell_type": "markdown",
   "metadata": {},
   "source": [
    "Because the first file had entries from 0 to 2600 and the second file had entries from 1300 to 6821"
   ]
  },
  {
   "cell_type": "code",
   "execution_count": 20,
   "metadata": {},
   "outputs": [],
   "source": [
    "genre_predictions = pd.concat([genre_predictions_2600, genre_predictions_1300_5521[1300:]], ignore_index=True)"
   ]
  },
  {
   "cell_type": "code",
   "execution_count": 21,
   "metadata": {},
   "outputs": [
    {
     "data": {
      "text/plain": [
       "6821"
      ]
     },
     "execution_count": 21,
     "metadata": {},
     "output_type": "execute_result"
    }
   ],
   "source": [
    "len(genre_predictions)"
   ]
  },
  {
   "cell_type": "code",
   "execution_count": 23,
   "metadata": {},
   "outputs": [],
   "source": [
    "genre_predictions.drop('Unnamed: 0', axis=1, inplace=True)"
   ]
  },
  {
   "cell_type": "code",
   "execution_count": 25,
   "metadata": {},
   "outputs": [],
   "source": [
    "genre_predictions.to_csv(\"genre_predictions.csv\")"
   ]
  },
  {
   "cell_type": "code",
   "execution_count": 31,
   "metadata": {},
   "outputs": [],
   "source": [
    "wned = pd.read_csv(\"./wned_wiki_dataset.csv\")"
   ]
  },
  {
   "cell_type": "code",
   "execution_count": 32,
   "metadata": {},
   "outputs": [],
   "source": [
    "wned['genre_results'] = genre_predictions['prediction']"
   ]
  },
  {
   "cell_type": "code",
   "execution_count": 33,
   "metadata": {},
   "outputs": [],
   "source": [
    "acc_genre = len(wned[wned['entity']==wned['genre_results']])/len(wned)"
   ]
  },
  {
   "cell_type": "code",
   "execution_count": 34,
   "metadata": {},
   "outputs": [
    {
     "data": {
      "text/plain": [
       "0.7880076235156136"
      ]
     },
     "execution_count": 34,
     "metadata": {},
     "output_type": "execute_result"
    }
   ],
   "source": [
    "acc_genre"
   ]
  },
  {
   "cell_type": "code",
   "execution_count": 36,
   "metadata": {},
   "outputs": [],
   "source": [
    "wned.drop(['Unnamed: 0.1','Unnamed: 0'], axis=1, inplace=True)"
   ]
  },
  {
   "cell_type": "code",
   "execution_count": 37,
   "metadata": {},
   "outputs": [
    {
     "data": {
      "text/html": [
       "<div>\n",
       "<style scoped>\n",
       "    .dataframe tbody tr th:only-of-type {\n",
       "        vertical-align: middle;\n",
       "    }\n",
       "\n",
       "    .dataframe tbody tr th {\n",
       "        vertical-align: top;\n",
       "    }\n",
       "\n",
       "    .dataframe thead th {\n",
       "        text-align: right;\n",
       "    }\n",
       "</style>\n",
       "<table border=\"1\" class=\"dataframe\">\n",
       "  <thead>\n",
       "    <tr style=\"text-align: right;\">\n",
       "      <th></th>\n",
       "      <th>mention</th>\n",
       "      <th>entity</th>\n",
       "      <th>uri</th>\n",
       "      <th>lookup_results</th>\n",
       "      <th>redis_results</th>\n",
       "      <th>genre_results</th>\n",
       "    </tr>\n",
       "  </thead>\n",
       "  <tbody>\n",
       "    <tr>\n",
       "      <th>0</th>\n",
       "      <td>Tasmanian Legislative Council</td>\n",
       "      <td>Tasmanian Legislative Council</td>\n",
       "      <td>http://dbpedia.org/resource/Tasmanian_Legislat...</td>\n",
       "      <td>http://dbpedia.org/resource/Members_of_the_Tas...</td>\n",
       "      <td>http://dbpedia.org/resource/Tasmanian_Legislat...</td>\n",
       "      <td>Tasmanian Legislative Council</td>\n",
       "    </tr>\n",
       "    <tr>\n",
       "      <th>1</th>\n",
       "      <td>upper house</td>\n",
       "      <td>Tasmanian Legislative Council</td>\n",
       "      <td>http://dbpedia.org/resource/Tasmanian_Legislat...</td>\n",
       "      <td>http://dbpedia.org/resource/Upper_house</td>\n",
       "      <td>http://dbpedia.org/resource/Upper_house</td>\n",
       "      <td>Western Australian Legislative Council</td>\n",
       "    </tr>\n",
       "    <tr>\n",
       "      <th>2</th>\n",
       "      <td>Murchison</td>\n",
       "      <td>Electoral division of Murchison</td>\n",
       "      <td>http://dbpedia.org/resource/Electoral_division...</td>\n",
       "      <td>http://dbpedia.org/resource/Roderick_Murchison</td>\n",
       "      <td>http://dbpedia.org/resource/Murchison_bioregion</td>\n",
       "      <td>Electoral district of Murchison</td>\n",
       "    </tr>\n",
       "    <tr>\n",
       "      <th>3</th>\n",
       "      <td>Pipers River</td>\n",
       "      <td>Pipers River, Tasmania</td>\n",
       "      <td>http://dbpedia.org/resource/Pipers_River,_Tasm...</td>\n",
       "      <td>http://dbpedia.org/resource/Pipers_River</td>\n",
       "      <td>http://dbpedia.org/resource/Pipers_River</td>\n",
       "      <td>Pipers River, Tasmania</td>\n",
       "    </tr>\n",
       "    <tr>\n",
       "      <th>4</th>\n",
       "      <td>Scottsdale</td>\n",
       "      <td>Scottsdale, Tasmania</td>\n",
       "      <td>http://dbpedia.org/resource/Scottsdale,_Tasmania</td>\n",
       "      <td>http://dbpedia.org/resource/Scottsdale,_Arizona</td>\n",
       "      <td>http://dbpedia.org/resource/Scottsdale,_Arizona</td>\n",
       "      <td>Scottsdale, Tasmania</td>\n",
       "    </tr>\n",
       "    <tr>\n",
       "      <th>...</th>\n",
       "      <td>...</td>\n",
       "      <td>...</td>\n",
       "      <td>...</td>\n",
       "      <td>...</td>\n",
       "      <td>...</td>\n",
       "      <td>...</td>\n",
       "    </tr>\n",
       "    <tr>\n",
       "      <th>6816</th>\n",
       "      <td>Miko</td>\n",
       "      <td>Miko</td>\n",
       "      <td>http://dbpedia.org/resource/Miko</td>\n",
       "      <td>http://dbpedia.org/resource/Kannazuki_no_Miko</td>\n",
       "      <td>http://dbpedia.org/resource/Miko</td>\n",
       "      <td>Miko</td>\n",
       "    </tr>\n",
       "    <tr>\n",
       "      <th>6817</th>\n",
       "      <td>Rattan</td>\n",
       "      <td>Rattan</td>\n",
       "      <td>http://dbpedia.org/resource/Rattan</td>\n",
       "      <td>http://dbpedia.org/resource/Rattan</td>\n",
       "      <td>http://dbpedia.org/resource/Rattan</td>\n",
       "      <td>Rattan</td>\n",
       "    </tr>\n",
       "    <tr>\n",
       "      <th>6818</th>\n",
       "      <td>Gold leaf</td>\n",
       "      <td>Gold leaf</td>\n",
       "      <td>http://dbpedia.org/resource/Gold_leaf</td>\n",
       "      <td>http://dbpedia.org/resource/Team_Lotus</td>\n",
       "      <td>http://dbpedia.org/resource/Gold_leaf</td>\n",
       "      <td>Gold leaf</td>\n",
       "    </tr>\n",
       "    <tr>\n",
       "      <th>6819</th>\n",
       "      <td>male</td>\n",
       "      <td>Male</td>\n",
       "      <td>http://dbpedia.org/resource/Male</td>\n",
       "      <td>http://dbpedia.org/resource/Male</td>\n",
       "      <td>http://dbpedia.org/resource/Male</td>\n",
       "      <td>Male</td>\n",
       "    </tr>\n",
       "    <tr>\n",
       "      <th>6820</th>\n",
       "      <td>female</td>\n",
       "      <td>Female</td>\n",
       "      <td>http://dbpedia.org/resource/Female</td>\n",
       "      <td>http://dbpedia.org/resource/Female</td>\n",
       "      <td>http://dbpedia.org/resource/Female</td>\n",
       "      <td>Female</td>\n",
       "    </tr>\n",
       "  </tbody>\n",
       "</table>\n",
       "<p>6821 rows × 6 columns</p>\n",
       "</div>"
      ],
      "text/plain": [
       "                            mention                           entity   \n",
       "0     Tasmanian Legislative Council    Tasmanian Legislative Council  \\\n",
       "1                       upper house    Tasmanian Legislative Council   \n",
       "2                         Murchison  Electoral division of Murchison   \n",
       "3                      Pipers River           Pipers River, Tasmania   \n",
       "4                        Scottsdale             Scottsdale, Tasmania   \n",
       "...                             ...                              ...   \n",
       "6816                           Miko                             Miko   \n",
       "6817                         Rattan                           Rattan   \n",
       "6818                      Gold leaf                        Gold leaf   \n",
       "6819                           male                             Male   \n",
       "6820                         female                           Female   \n",
       "\n",
       "                                                    uri   \n",
       "0     http://dbpedia.org/resource/Tasmanian_Legislat...  \\\n",
       "1     http://dbpedia.org/resource/Tasmanian_Legislat...   \n",
       "2     http://dbpedia.org/resource/Electoral_division...   \n",
       "3     http://dbpedia.org/resource/Pipers_River,_Tasm...   \n",
       "4      http://dbpedia.org/resource/Scottsdale,_Tasmania   \n",
       "...                                                 ...   \n",
       "6816                   http://dbpedia.org/resource/Miko   \n",
       "6817                 http://dbpedia.org/resource/Rattan   \n",
       "6818              http://dbpedia.org/resource/Gold_leaf   \n",
       "6819                   http://dbpedia.org/resource/Male   \n",
       "6820                 http://dbpedia.org/resource/Female   \n",
       "\n",
       "                                         lookup_results   \n",
       "0     http://dbpedia.org/resource/Members_of_the_Tas...  \\\n",
       "1               http://dbpedia.org/resource/Upper_house   \n",
       "2        http://dbpedia.org/resource/Roderick_Murchison   \n",
       "3              http://dbpedia.org/resource/Pipers_River   \n",
       "4       http://dbpedia.org/resource/Scottsdale,_Arizona   \n",
       "...                                                 ...   \n",
       "6816      http://dbpedia.org/resource/Kannazuki_no_Miko   \n",
       "6817                 http://dbpedia.org/resource/Rattan   \n",
       "6818             http://dbpedia.org/resource/Team_Lotus   \n",
       "6819                   http://dbpedia.org/resource/Male   \n",
       "6820                 http://dbpedia.org/resource/Female   \n",
       "\n",
       "                                          redis_results   \n",
       "0     http://dbpedia.org/resource/Tasmanian_Legislat...  \\\n",
       "1               http://dbpedia.org/resource/Upper_house   \n",
       "2       http://dbpedia.org/resource/Murchison_bioregion   \n",
       "3              http://dbpedia.org/resource/Pipers_River   \n",
       "4       http://dbpedia.org/resource/Scottsdale,_Arizona   \n",
       "...                                                 ...   \n",
       "6816                   http://dbpedia.org/resource/Miko   \n",
       "6817                 http://dbpedia.org/resource/Rattan   \n",
       "6818              http://dbpedia.org/resource/Gold_leaf   \n",
       "6819                   http://dbpedia.org/resource/Male   \n",
       "6820                 http://dbpedia.org/resource/Female   \n",
       "\n",
       "                               genre_results  \n",
       "0              Tasmanian Legislative Council  \n",
       "1     Western Australian Legislative Council  \n",
       "2            Electoral district of Murchison  \n",
       "3                     Pipers River, Tasmania  \n",
       "4                       Scottsdale, Tasmania  \n",
       "...                                      ...  \n",
       "6816                                    Miko  \n",
       "6817                                  Rattan  \n",
       "6818                               Gold leaf  \n",
       "6819                                    Male  \n",
       "6820                                  Female  \n",
       "\n",
       "[6821 rows x 6 columns]"
      ]
     },
     "execution_count": 37,
     "metadata": {},
     "output_type": "execute_result"
    }
   ],
   "source": [
    "wned"
   ]
  },
  {
   "cell_type": "code",
   "execution_count": 38,
   "metadata": {},
   "outputs": [],
   "source": [
    "wned.to_csv(\"./wned_wiki_dataset_results.csv\")"
   ]
  },
  {
   "attachments": {},
   "cell_type": "markdown",
   "metadata": {},
   "source": [
    "### Exploring results from all methods"
   ]
  },
  {
   "cell_type": "code",
   "execution_count": 18,
   "metadata": {},
   "outputs": [],
   "source": [
    "import pandas as pd\n",
    "wned_data = pd.read_csv(\"./wned_wiki_dataset_results.csv\")\n",
    "wned_sentence_data = pd.read_csv(\"./genre_tagged_wned_dataset.csv\")\n",
    "wned_data['tagged_sentence'] = wned_sentence_data['tagged_sentence']\n",
    "wned_data.to_csv(\"./wned_wiki_dataset_results.csv\")"
   ]
  },
  {
   "cell_type": "code",
   "execution_count": 19,
   "metadata": {},
   "outputs": [
    {
     "data": {
      "text/html": [
       "<div>\n",
       "<style scoped>\n",
       "    .dataframe tbody tr th:only-of-type {\n",
       "        vertical-align: middle;\n",
       "    }\n",
       "\n",
       "    .dataframe tbody tr th {\n",
       "        vertical-align: top;\n",
       "    }\n",
       "\n",
       "    .dataframe thead th {\n",
       "        text-align: right;\n",
       "    }\n",
       "</style>\n",
       "<table border=\"1\" class=\"dataframe\">\n",
       "  <thead>\n",
       "    <tr style=\"text-align: right;\">\n",
       "      <th></th>\n",
       "      <th>Unnamed: 0</th>\n",
       "      <th>mention</th>\n",
       "      <th>entity</th>\n",
       "      <th>uri</th>\n",
       "      <th>lookup_results</th>\n",
       "      <th>redis_results</th>\n",
       "      <th>genre_results</th>\n",
       "      <th>tagged_sentence</th>\n",
       "    </tr>\n",
       "  </thead>\n",
       "  <tbody>\n",
       "    <tr>\n",
       "      <th>0</th>\n",
       "      <td>0</td>\n",
       "      <td>Tasmanian Legislative Council</td>\n",
       "      <td>Tasmanian Legislative Council</td>\n",
       "      <td>http://dbpedia.org/resource/Tasmanian_Legislat...</td>\n",
       "      <td>http://dbpedia.org/resource/Members_of_the_Tas...</td>\n",
       "      <td>http://dbpedia.org/resource/Tasmanian_Legislat...</td>\n",
       "      <td>Tasmanian Legislative Council</td>\n",
       "      <td>The Electoral division of Apsley is one of the...</td>\n",
       "    </tr>\n",
       "    <tr>\n",
       "      <th>1</th>\n",
       "      <td>1</td>\n",
       "      <td>upper house</td>\n",
       "      <td>Tasmanian Legislative Council</td>\n",
       "      <td>http://dbpedia.org/resource/Tasmanian_Legislat...</td>\n",
       "      <td>http://dbpedia.org/resource/Upper_house</td>\n",
       "      <td>http://dbpedia.org/resource/Upper_house</td>\n",
       "      <td>Western Australian Legislative Council</td>\n",
       "      <td>It is the second-largest [START_ENT] upper hou...</td>\n",
       "    </tr>\n",
       "    <tr>\n",
       "      <th>2</th>\n",
       "      <td>2</td>\n",
       "      <td>Murchison</td>\n",
       "      <td>Electoral division of Murchison</td>\n",
       "      <td>http://dbpedia.org/resource/Electoral_division...</td>\n",
       "      <td>http://dbpedia.org/resource/Roderick_Murchison</td>\n",
       "      <td>http://dbpedia.org/resource/Murchison_bioregion</td>\n",
       "      <td>Electoral district of Murchison</td>\n",
       "      <td>It is the second-largest upper house electorat...</td>\n",
       "    </tr>\n",
       "    <tr>\n",
       "      <th>3</th>\n",
       "      <td>3</td>\n",
       "      <td>Pipers River</td>\n",
       "      <td>Pipers River, Tasmania</td>\n",
       "      <td>http://dbpedia.org/resource/Pipers_River,_Tasm...</td>\n",
       "      <td>http://dbpedia.org/resource/Pipers_River</td>\n",
       "      <td>http://dbpedia.org/resource/Pipers_River</td>\n",
       "      <td>Pipers River, Tasmania</td>\n",
       "      <td>Towns within the division include: [START_ENT]...</td>\n",
       "    </tr>\n",
       "    <tr>\n",
       "      <th>4</th>\n",
       "      <td>4</td>\n",
       "      <td>Scottsdale</td>\n",
       "      <td>Scottsdale, Tasmania</td>\n",
       "      <td>http://dbpedia.org/resource/Scottsdale,_Tasmania</td>\n",
       "      <td>http://dbpedia.org/resource/Scottsdale,_Arizona</td>\n",
       "      <td>http://dbpedia.org/resource/Scottsdale,_Arizona</td>\n",
       "      <td>Scottsdale, Tasmania</td>\n",
       "      <td>Towns within the division include: Pipers Rive...</td>\n",
       "    </tr>\n",
       "  </tbody>\n",
       "</table>\n",
       "</div>"
      ],
      "text/plain": [
       "   Unnamed: 0                        mention                           entity   \n",
       "0           0  Tasmanian Legislative Council    Tasmanian Legislative Council  \\\n",
       "1           1                    upper house    Tasmanian Legislative Council   \n",
       "2           2                      Murchison  Electoral division of Murchison   \n",
       "3           3                   Pipers River           Pipers River, Tasmania   \n",
       "4           4                     Scottsdale             Scottsdale, Tasmania   \n",
       "\n",
       "                                                 uri   \n",
       "0  http://dbpedia.org/resource/Tasmanian_Legislat...  \\\n",
       "1  http://dbpedia.org/resource/Tasmanian_Legislat...   \n",
       "2  http://dbpedia.org/resource/Electoral_division...   \n",
       "3  http://dbpedia.org/resource/Pipers_River,_Tasm...   \n",
       "4   http://dbpedia.org/resource/Scottsdale,_Tasmania   \n",
       "\n",
       "                                      lookup_results   \n",
       "0  http://dbpedia.org/resource/Members_of_the_Tas...  \\\n",
       "1            http://dbpedia.org/resource/Upper_house   \n",
       "2     http://dbpedia.org/resource/Roderick_Murchison   \n",
       "3           http://dbpedia.org/resource/Pipers_River   \n",
       "4    http://dbpedia.org/resource/Scottsdale,_Arizona   \n",
       "\n",
       "                                       redis_results   \n",
       "0  http://dbpedia.org/resource/Tasmanian_Legislat...  \\\n",
       "1            http://dbpedia.org/resource/Upper_house   \n",
       "2    http://dbpedia.org/resource/Murchison_bioregion   \n",
       "3           http://dbpedia.org/resource/Pipers_River   \n",
       "4    http://dbpedia.org/resource/Scottsdale,_Arizona   \n",
       "\n",
       "                            genre_results   \n",
       "0           Tasmanian Legislative Council  \\\n",
       "1  Western Australian Legislative Council   \n",
       "2         Electoral district of Murchison   \n",
       "3                  Pipers River, Tasmania   \n",
       "4                    Scottsdale, Tasmania   \n",
       "\n",
       "                                     tagged_sentence  \n",
       "0  The Electoral division of Apsley is one of the...  \n",
       "1  It is the second-largest [START_ENT] upper hou...  \n",
       "2  It is the second-largest upper house electorat...  \n",
       "3  Towns within the division include: [START_ENT]...  \n",
       "4  Towns within the division include: Pipers Rive...  "
      ]
     },
     "execution_count": 19,
     "metadata": {},
     "output_type": "execute_result"
    }
   ],
   "source": [
    "wned_data.head()"
   ]
  },
  {
   "cell_type": "code",
   "execution_count": 20,
   "metadata": {},
   "outputs": [],
   "source": [
    "# As GENRE had the highest accuracy, let us see some cases where\n",
    "# GEBRE was wrong but other two (or either of them) could be correct\n",
    "genre_was_wrong = wned_data[\n",
    "    (wned_data['genre_results']!=wned_data['entity']) & \n",
    "    ((wned_data['lookup_results']==wned_data['uri']) | (wned_data['redis_results']==wned_data['uri']))\n",
    "    ]"
   ]
  },
  {
   "cell_type": "code",
   "execution_count": 21,
   "metadata": {},
   "outputs": [
    {
     "data": {
      "text/plain": [
       "37"
      ]
     },
     "execution_count": 21,
     "metadata": {},
     "output_type": "execute_result"
    }
   ],
   "source": [
    "only_lookup_was_right = wned_data[\n",
    "    (wned_data['lookup_results']==wned_data['uri']) &\n",
    "    (\n",
    "        (wned_data['genre_results']!=wned_data['entity']) & (wned_data['redis_results']!=wned_data['uri'])\n",
    "    )\n",
    "]\n",
    "len(only_lookup_was_right)"
   ]
  },
  {
   "cell_type": "code",
   "execution_count": 70,
   "metadata": {},
   "outputs": [
    {
     "data": {
      "text/plain": [
       "168"
      ]
     },
     "execution_count": 70,
     "metadata": {},
     "output_type": "execute_result"
    }
   ],
   "source": [
    "only_redis_was_right = wned_data[\n",
    "    (wned_data['redis_results']==wned_data['uri']) &\n",
    "    (\n",
    "        (wned_data['genre_results']!=wned_data['entity']) & (wned_data['lookup_results']!=wned_data['uri'])\n",
    "    )\n",
    "]\n",
    "len(only_redis_was_right)"
   ]
  },
  {
   "cell_type": "code",
   "execution_count": 22,
   "metadata": {},
   "outputs": [
    {
     "data": {
      "text/plain": [
       "1314"
      ]
     },
     "execution_count": 22,
     "metadata": {},
     "output_type": "execute_result"
    }
   ],
   "source": [
    "only_genre_was_right = wned_data[\n",
    "    (wned_data['genre_results']==wned_data['entity']) &\n",
    "    (\n",
    "        (wned_data['lookup_results']!=wned_data['uri']) & (wned_data['redis_results']!=wned_data['uri'])\n",
    "    )\n",
    "]\n",
    "len(only_genre_was_right)"
   ]
  },
  {
   "cell_type": "code",
   "execution_count": 75,
   "metadata": {},
   "outputs": [
    {
     "data": {
      "text/plain": [
       "1107"
      ]
     },
     "execution_count": 75,
     "metadata": {},
     "output_type": "execute_result"
    }
   ],
   "source": [
    "all_were_wrong = wned_data[\n",
    "    (wned_data['genre_results']!=wned_data['entity']) &\n",
    "    (wned_data['lookup_results']!=wned_data['uri']) & \n",
    "    (wned_data['redis_results']!=wned_data['uri'])\n",
    "]\n",
    "len(all_were_wrong)"
   ]
  },
  {
   "cell_type": "code",
   "execution_count": 77,
   "metadata": {},
   "outputs": [
    {
     "data": {
      "text/plain": [
       "2679"
      ]
     },
     "execution_count": 77,
     "metadata": {},
     "output_type": "execute_result"
    }
   ],
   "source": [
    "all_correct_simultaneously = wned_data[\n",
    "    (wned_data['genre_results']==wned_data['entity']) &\n",
    "    (wned_data['lookup_results']==wned_data['uri']) & \n",
    "    (wned_data['redis_results']==wned_data['uri'])\n",
    "]\n",
    "len(all_correct_simultaneously)"
   ]
  },
  {
   "cell_type": "code",
   "execution_count": 79,
   "metadata": {},
   "outputs": [
    {
     "data": {
      "text/plain": [
       "5714"
      ]
     },
     "execution_count": 79,
     "metadata": {},
     "output_type": "execute_result"
    }
   ],
   "source": [
    "at_least_one_of_them_correct = wned_data[\n",
    "    (wned_data['genre_results']==wned_data['entity']) |\n",
    "    (wned_data['lookup_results']==wned_data['uri']) |\n",
    "    (wned_data['redis_results']==wned_data['uri'])\n",
    "]\n",
    "len(at_least_one_of_them_correct)"
   ]
  },
  {
   "cell_type": "code",
   "execution_count": 80,
   "metadata": {},
   "outputs": [
    {
     "data": {
      "text/plain": [
       "0.8377070810731564"
      ]
     },
     "execution_count": 80,
     "metadata": {},
     "output_type": "execute_result"
    }
   ],
   "source": [
    "5714/6821"
   ]
  },
  {
   "cell_type": "code",
   "execution_count": 44,
   "metadata": {},
   "outputs": [],
   "source": [
    "def rowinfo(i, df):\n",
    "    print(\"Mention:\",df.iloc[i]['mention'])\n",
    "    print(\"Entity:\",df.iloc[i]['entity'])\n",
    "    print(\"URI:\",df.iloc[i]['uri'])\n",
    "    print()\n",
    "    print(\"Lookup:\",df.iloc[i]['lookup_results'])\n",
    "    print(\"Redis:\",df.iloc[i]['redis_results'])\n",
    "    print(\"GENRE:\",df.iloc[i]['genre_results'])\n",
    "    print(\"Sentence:\",df.iloc[i]['tagged_sentence'])\n"
   ]
  },
  {
   "cell_type": "code",
   "execution_count": 29,
   "metadata": {},
   "outputs": [
    {
     "name": "stdout",
     "output_type": "stream",
     "text": [
      "Mention: Wales\n",
      "Entity: Wales national rugby union team\n",
      "URI: http://dbpedia.org/resource/Wales_national_rugby_union_team\n",
      "\n",
      "Lookup: http://dbpedia.org/resource/Wales\n",
      "Redis: http://dbpedia.org/resource/Wales\n",
      "GENRE: Wales national rugby union team\n",
      "Sentence: He then played against Scotland on 26 February and [START_ENT] Wales [END_ENT]  on 12 March.\n"
     ]
    }
   ],
   "source": [
    "rowinfo(50,only_genre_was_right)"
   ]
  },
  {
   "cell_type": "code",
   "execution_count": 61,
   "metadata": {},
   "outputs": [
    {
     "name": "stdout",
     "output_type": "stream",
     "text": [
      "Mention: Asian Five Nations\n",
      "Entity: Asian Five Nations\n",
      "URI: http://dbpedia.org/resource/Asian_Five_Nations\n",
      "\n",
      "Lookup: http://dbpedia.org/resource/2008_Asian_Five_Nations\n",
      "Redis: http://dbpedia.org/resource/Asia_Rugby_Championship\n",
      "GENRE: Asian Five Nations\n",
      "Sentence: The flagship tournament for promoting the sport in Asia is the [START_ENT] Asian Five Nations [END_ENT] , which launched in 2008, and which most recently in 2011 saw the national teams of Hong Kong (national team), Japan (national team), Kazakhstan (national team), Sri Lanka (national team) and the UAE, compete in the main tournament.\n"
     ]
    }
   ],
   "source": [
    "rowinfo(600, only_genre_was_right)"
   ]
  },
  {
   "cell_type": "code",
   "execution_count": 71,
   "metadata": {},
   "outputs": [
    {
     "name": "stdout",
     "output_type": "stream",
     "text": [
      "Mention: Fountains\n",
      "Entity: Fountains Abbey\n",
      "URI: http://dbpedia.org/resource/Fountains_Abbey\n",
      "\n",
      "Lookup: http://dbpedia.org/resource/Fountains_of_Wayne\n",
      "Redis: http://dbpedia.org/resource/Fountains_Abbey\n",
      "GENRE: Fountains\n",
      "Sentence: This part of Abbey Park consists of Bisham Drive, Dale Close, Newstead Drive,  Drive, [START_ENT] Fountains [END_ENT]  Close,  Close, and  Drive.\n"
     ]
    }
   ],
   "source": [
    "rowinfo(30, only_redis_was_right)"
   ]
  },
  {
   "cell_type": "code",
   "execution_count": null,
   "metadata": {},
   "outputs": [],
   "source": []
  }
 ],
 "metadata": {
  "kernelspec": {
   "display_name": "gsoc",
   "language": "python",
   "name": "python3"
  },
  "language_info": {
   "codemirror_mode": {
    "name": "ipython",
    "version": 3
   },
   "file_extension": ".py",
   "mimetype": "text/x-python",
   "name": "python",
   "nbconvert_exporter": "python",
   "pygments_lexer": "ipython3",
   "version": "3.11.3"
  },
  "orig_nbformat": 4
 },
 "nbformat": 4,
 "nbformat_minor": 2
}
