{
 "cells": [
  {
   "cell_type": "code",
   "execution_count": 1,
   "metadata": {},
   "outputs": [],
   "source": [
    "import pandas as pd"
   ]
  },
  {
   "cell_type": "code",
   "execution_count": 2,
   "metadata": {},
   "outputs": [],
   "source": [
    "gsoc_triples = pd.read_csv(\"./gsoc_triples.csv\")"
   ]
  },
  {
   "cell_type": "code",
   "execution_count": 4,
   "metadata": {},
   "outputs": [
    {
     "data": {
      "text/plain": [
       "0"
      ]
     },
     "execution_count": 4,
     "metadata": {},
     "output_type": "execute_result"
    }
   ],
   "source": [
    "gsoc_triples.duplicated(keep=False).sum()"
   ]
  },
  {
   "cell_type": "code",
   "execution_count": 5,
   "metadata": {},
   "outputs": [
    {
     "data": {
      "text/plain": [
       "array(['Google Summer of Code', 'free', 'open-source', 'Google',\n",
       "       'open-source software', '2022', 'recent graduates', 'graduates',\n",
       "       'students', '2016 Summer Olympics', '2020 Summer Olympics', '2005',\n",
       "       'August 2005', '2004 Summer Olympics', '2008 Summer Olympics',\n",
       "       'May to August 2005', '2006 Commonwealth Games', 'May',\n",
       "       'purchasing power parity', 'parity', 'host organization',\n",
       "       'host organizations', 'open-source software development',\n",
       "       'Larry Page', 'Sergey Brin', \"Google's\", 'Summer of Code',\n",
       "       'Leslie Hawthorn', '2006', '2009', '2007', 'Carol Smith', '2010',\n",
       "       '2015', 'program manager', 'Stephanie Taylor', '2016',\n",
       "       '2012 Summer Olympics', '2012 Olympic Games',\n",
       "       '2010 FIFA World Cup', '2014 FIFA World Cup', '2014', '2018',\n",
       "       '2013', 'Timeline', '2017', 'organizations',\n",
       "       'open-source organizations', 'open-source organization',\n",
       "       'apply to participate', 'development communities', 'contributors',\n",
       "       'development community', 'community', 'software-coding',\n",
       "       'projects', 'software', 'coding', 'mentors',\n",
       "       'mentoring organization', 'mentor', 'mentoring', 'applications',\n",
       "       'Mentoring', 'YouTube', 'John F. Kennedy School of Government',\n",
       "       'organization', '2010 Summer Olympics', 'University of Oxford',\n",
       "       '2010 Commonwealth Games', 'University of California, Berkeley',\n",
       "       'History', 'In 2005', '419 positions', 'University of Utah',\n",
       "       'New York University', 'United Nations', 'General Assembly',\n",
       "       'New York City', 'Manhattan', 'University of Pennsylvania',\n",
       "       \"L'Orfeo\", 'T-shirt', 'Ubuntu', 'KDE', 'first Summer of Code',\n",
       "       'Apache', 'Blender', 'Mozdev', 'Chris DiBona', 'Mozilla',\n",
       "       'Gervase Markham', 'Jabber Software Foundation',\n",
       "       'XMPP Standards Foundation', 'XMPP', 'Pidgin', 'Gaim (now Pidgin)',\n",
       "       'previous year', '2006 === 2006', \"2005's\", \"2005's applications\",\n",
       "       \"2005's application\", 'World Heritage Site', 'Kraków',\n",
       "       'World War II', 'Poland', \"International Women's Day\",\n",
       "       'United Nations General Assembly', 'Debian', 'Adium', 'ReactOS',\n",
       "       'Chrome', '2006-05-09', '2006 Summer Olympics',\n",
       "       \"2006 NCAA Division I Men's Basketball Tournament\",\n",
       "       'Stanford University', 'project', 'duplicate acceptances',\n",
       "       'Android', 'SoC', 'SoC committee', 'official mailing list',\n",
       "       '2009 Contest', '2009 World Cup', 'EMI', 'E-mail', 'SoC website',\n",
       "       'sensitive', 'sensitive and private',\n",
       "       '\"sensitive and private\" information', 'Sensitive and private',\n",
       "       'information', 'Sensitive and private\" information',\n",
       "       'sensitive and private\" information', 'Summer of Code 2006',\n",
       "       'The Summer of Code 2006', 'Code 2006', 'Harvard University',\n",
       "       'National Museum of American Art', '1988', '1984', '2002', '2000',\n",
       "       '1972', '2004', '2008', 'Not Selected', 'application',\n",
       "       'web interface', 'Status of Not Selected', 'Acceptance email',\n",
       "       'Yom Kippur War', 'Yonsei University', '2008 Summer of Code',\n",
       "       '2008 Summer', 'Code', 'Open Source at Google',\n",
       "       '\"Open Source at Google\" blog', '2008 GSoC',\n",
       "       'University of Moratuwa', 'Wrocław University of Technology',\n",
       "       'Universidade Estadual de Campinas', 'University of Technology',\n",
       "       '2008 GSoC Accepted: Top 10 Universities', 'Moratuwa',\n",
       "       '2010 === 2010', 'India', 'China', 'United States',\n",
       "       'United Kingdom', 'Germany', 'Brazil', 'Canada', 'France',\n",
       "       'Sri Lanka', '2011', '2012', \"2009 World's Fair\",\n",
       "       'new to the program', 'Uppsala University', 'New to the program',\n",
       "       'the program', 'program', '2011 Google Summer of Code',\n",
       "       'University of Moratuwa, Sri Lanka', 'Moratuwa University',\n",
       "       'University', 'Polytechnic University of Bucharest',\n",
       "       'Indian Institute of Technology, Kharagpur',\n",
       "       'Indian Institute of Technology', 'Kharagpur',\n",
       "       '2011 Google Summer of Code program', \"master's degree\", 'PhD',\n",
       "       \"master's degrees\", 'Google Summer of Code 2012', 'Google Cloud',\n",
       "       '1,212 proposals were accepted',\n",
       "       '1,212 proposals were accepted in 180 organizations', 'USA',\n",
       "       'Dhirubhai Ambani Institute of Information and Communication Technology',\n",
       "       'Bhirubhai Ambani Institute of Information and Communication Technology',\n",
       "       '3rd rank', 'Mauritius', 'Google Summer of Code 2013',\n",
       "       'open source', 'open source projects and organizations',\n",
       "       'project proposals', 'Project', 'Google Summer of Code 2014',\n",
       "       '2014 edition', 'Ethiopia', 'Kenya', 'Uganda', 'Malawi',\n",
       "       'The 2014 edition', 'Cameroon', 'Kenyan',\n",
       "       'Google Summer of Code 2015', 'Tor Project', 'Linux Foundation',\n",
       "       'student application period', 'application period',\n",
       "       'The student application period', 'Student application period',\n",
       "       'applications period', 'The Student application period',\n",
       "       'The accepted student proposals', 'accepted student proposals',\n",
       "       'student proposals', 'Accepted student proposals',\n",
       "       'The accepted student proposals were announced on April 27, 2015',\n",
       "       'The accepted student proposals were announced',\n",
       "       'Google Summer of Code 2016', 'New York Yankees', 'March 14, 2016',\n",
       "       '2014 Summer Olympics', 'in 2015', 'the 2015',\n",
       "       '2014 Commonwealth Games',\n",
       "       'The accepted student proposals were announced on April 22, 2016',\n",
       "       'Student proposals', '2019', '2017 ===2017', 'first time',\n",
       "       'Kennedy School of Government',\n",
       "       'the previous high for the program',\n",
       "       'previous high for the program', 'the previous high',\n",
       "       'previous high', 'in 2018', '2018 === 2018',\n",
       "       'organizations were accepted in 2018', '2018.',\n",
       "       'organizations were accepted in 2019', 'in 2019', '2019.',\n",
       "       '2019 ===2019', 'submitted in 2019', 'accepted in 2019', '2020',\n",
       "       '2020.', '2020 ===2020', '2020 �<subj> 2020', 'in 2020', '2021',\n",
       "       '2022 Summer Olympics', '2021.', '2020 Winter Olympics',\n",
       "       'Google Summer of Code program', 'new grads', 'New grads',\n",
       "       'new grad', 'student', 'medium', 'large projects', 'SoC 2006',\n",
       "       'Google Summer of Code Full of Stats - Part 3, Countries',\n",
       "       'Google Summer of Code Full of Stats',\n",
       "       'Google Summer of Code Full of Stats - Part 3'], dtype=object)"
      ]
     },
     "execution_count": 5,
     "metadata": {},
     "output_type": "execute_result"
    }
   ],
   "source": []
  },
  {
   "cell_type": "code",
   "execution_count": null,
   "metadata": {},
   "outputs": [],
   "source": []
  }
 ],
 "metadata": {
  "kernelspec": {
   "display_name": "gsoc",
   "language": "python",
   "name": "python3"
  },
  "language_info": {
   "codemirror_mode": {
    "name": "ipython",
    "version": 3
   },
   "file_extension": ".py",
   "mimetype": "text/x-python",
   "name": "python",
   "nbconvert_exporter": "python",
   "pygments_lexer": "ipython3",
   "version": "3.11.3"
  },
  "orig_nbformat": 4
 },
 "nbformat": 4,
 "nbformat_minor": 2
}
